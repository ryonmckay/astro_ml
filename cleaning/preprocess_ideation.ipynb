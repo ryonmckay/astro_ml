{
 "cells": [
  {
   "cell_type": "code",
   "execution_count": 129,
   "id": "207700a5",
   "metadata": {},
   "outputs": [
    {
     "name": "stdout",
     "output_type": "stream",
     "text": [
      "The autoreload extension is already loaded. To reload it, use:\n",
      "  %reload_ext autoreload\n"
     ]
    }
   ],
   "source": [
    "%load_ext autoreload\n",
    "%autoreload 2"
   ]
  },
  {
   "cell_type": "code",
   "execution_count": 130,
   "id": "889da768",
   "metadata": {},
   "outputs": [],
   "source": [
    "import sys\n",
    "sys.path.insert(0, '../')\n",
    "from cleaning.clean_utils import preprocess_data, clean_df, fillna_all\n",
    "import pandas as pd\n",
    "import json\n",
    "import seaborn as sns\n",
    "import matplotlib.pyplot as plt"
   ]
  },
  {
   "cell_type": "code",
   "execution_count": 131,
   "id": "ddd374ae",
   "metadata": {},
   "outputs": [],
   "source": [
    "dfs = []\n",
    "\n",
    "for i in range(1, 45):\n",
    "    url = f\"../data/people/people_{i}0.json\"\n",
    "    with open(url, 'r') as f:\n",
    "        data = json.load(f)\n",
    "        dfs.append(pd.read_json(json.dumps(data)))\n",
    "\n",
    "df_original = pd.concat(dfs)"
   ]
  },
  {
   "cell_type": "code",
   "execution_count": 132,
   "id": "7ad2404f",
   "metadata": {},
   "outputs": [
    {
     "data": {
      "text/html": [
       "<div>\n",
       "<style scoped>\n",
       "    .dataframe tbody tr th:only-of-type {\n",
       "        vertical-align: middle;\n",
       "    }\n",
       "\n",
       "    .dataframe tbody tr th {\n",
       "        vertical-align: top;\n",
       "    }\n",
       "\n",
       "    .dataframe thead th {\n",
       "        text-align: right;\n",
       "    }\n",
       "</style>\n",
       "<table border=\"1\" class=\"dataframe\">\n",
       "  <thead>\n",
       "    <tr style=\"text-align: right;\">\n",
       "      <th></th>\n",
       "      <th>name</th>\n",
       "      <th>birth_day</th>\n",
       "      <th>birth_month</th>\n",
       "      <th>birth_year</th>\n",
       "      <th>birth_time</th>\n",
       "      <th>mercury_sign</th>\n",
       "      <th>mercury_pos_degrees</th>\n",
       "      <th>mercury_pos_minutes</th>\n",
       "      <th>mercury_house</th>\n",
       "      <th>mercury_retrograde</th>\n",
       "      <th>...</th>\n",
       "      <th>death_month</th>\n",
       "      <th>death_year</th>\n",
       "      <th>occupation</th>\n",
       "      <th>gender</th>\n",
       "      <th>uranus_retrograde</th>\n",
       "      <th>jupiter_retrograde</th>\n",
       "      <th>pluto_retrograde</th>\n",
       "      <th>saturn_retrograde</th>\n",
       "      <th>venus_retrograde</th>\n",
       "      <th>mars_retrograde</th>\n",
       "    </tr>\n",
       "  </thead>\n",
       "  <tbody>\n",
       "    <tr>\n",
       "      <th>0</th>\n",
       "      <td>Gouverneur Morris</td>\n",
       "      <td>30</td>\n",
       "      <td>1.0</td>\n",
       "      <td>1752</td>\n",
       "      <td>01:44</td>\n",
       "      <td>Aquarius</td>\n",
       "      <td>2.0</td>\n",
       "      <td>51.0</td>\n",
       "      <td>3</td>\n",
       "      <td>1.0</td>\n",
       "      <td>...</td>\n",
       "      <td>NaN</td>\n",
       "      <td>1816</td>\n",
       "      <td>politician</td>\n",
       "      <td>Male</td>\n",
       "      <td>NaN</td>\n",
       "      <td>NaN</td>\n",
       "      <td>NaN</td>\n",
       "      <td>NaN</td>\n",
       "      <td>NaN</td>\n",
       "      <td>NaN</td>\n",
       "    </tr>\n",
       "    <tr>\n",
       "      <th>1</th>\n",
       "      <td>Adolfh Freiherr Knigge</td>\n",
       "      <td>16</td>\n",
       "      <td>10.0</td>\n",
       "      <td>1752</td>\n",
       "      <td>05:30</td>\n",
       "      <td>Libra</td>\n",
       "      <td>6.0</td>\n",
       "      <td>11.0</td>\n",
       "      <td>12</td>\n",
       "      <td>NaN</td>\n",
       "      <td>...</td>\n",
       "      <td>NaN</td>\n",
       "      <td>1796</td>\n",
       "      <td>writer</td>\n",
       "      <td>Male</td>\n",
       "      <td>1.0</td>\n",
       "      <td>NaN</td>\n",
       "      <td>NaN</td>\n",
       "      <td>NaN</td>\n",
       "      <td>NaN</td>\n",
       "      <td>NaN</td>\n",
       "    </tr>\n",
       "    <tr>\n",
       "      <th>2</th>\n",
       "      <td>George Rogers Clark</td>\n",
       "      <td>19</td>\n",
       "      <td>11.0</td>\n",
       "      <td>1752</td>\n",
       "      <td>None</td>\n",
       "      <td>Sagittarius</td>\n",
       "      <td>1.0</td>\n",
       "      <td>30.0</td>\n",
       "      <td></td>\n",
       "      <td>NaN</td>\n",
       "      <td>...</td>\n",
       "      <td>NaN</td>\n",
       "      <td>1818</td>\n",
       "      <td>general</td>\n",
       "      <td>Male</td>\n",
       "      <td>NaN</td>\n",
       "      <td>1.0</td>\n",
       "      <td>NaN</td>\n",
       "      <td>NaN</td>\n",
       "      <td>NaN</td>\n",
       "      <td>NaN</td>\n",
       "    </tr>\n",
       "    <tr>\n",
       "      <th>3</th>\n",
       "      <td>Thomas Chatterton</td>\n",
       "      <td>20</td>\n",
       "      <td>11.0</td>\n",
       "      <td>1752</td>\n",
       "      <td>06:14</td>\n",
       "      <td>Sagittarius</td>\n",
       "      <td>2.0</td>\n",
       "      <td>21.0</td>\n",
       "      <td>1</td>\n",
       "      <td>NaN</td>\n",
       "      <td>...</td>\n",
       "      <td>NaN</td>\n",
       "      <td>1770</td>\n",
       "      <td>writer, poet</td>\n",
       "      <td>Male</td>\n",
       "      <td>NaN</td>\n",
       "      <td>1.0</td>\n",
       "      <td>NaN</td>\n",
       "      <td>NaN</td>\n",
       "      <td>NaN</td>\n",
       "      <td>NaN</td>\n",
       "    </tr>\n",
       "    <tr>\n",
       "      <th>4</th>\n",
       "      <td>Solomon Drowne</td>\n",
       "      <td>11</td>\n",
       "      <td>3.0</td>\n",
       "      <td>1753</td>\n",
       "      <td>08:00</td>\n",
       "      <td>Pisces</td>\n",
       "      <td>12.0</td>\n",
       "      <td>55.0</td>\n",
       "      <td>11</td>\n",
       "      <td>NaN</td>\n",
       "      <td>...</td>\n",
       "      <td>NaN</td>\n",
       "      <td>1834</td>\n",
       "      <td>doctor</td>\n",
       "      <td>Male</td>\n",
       "      <td>NaN</td>\n",
       "      <td>NaN</td>\n",
       "      <td>NaN</td>\n",
       "      <td>NaN</td>\n",
       "      <td>NaN</td>\n",
       "      <td>NaN</td>\n",
       "    </tr>\n",
       "  </tbody>\n",
       "</table>\n",
       "<p>5 rows × 95 columns</p>\n",
       "</div>"
      ],
      "text/plain": [
       "                     name birth_day  birth_month birth_year birth_time  \\\n",
       "0       Gouverneur Morris        30          1.0       1752      01:44   \n",
       "1  Adolfh Freiherr Knigge        16         10.0       1752      05:30   \n",
       "2     George Rogers Clark        19         11.0       1752       None   \n",
       "3       Thomas Chatterton        20         11.0       1752      06:14   \n",
       "4          Solomon Drowne        11          3.0       1753      08:00   \n",
       "\n",
       "  mercury_sign  mercury_pos_degrees  mercury_pos_minutes mercury_house  \\\n",
       "0     Aquarius                  2.0                 51.0             3   \n",
       "1        Libra                  6.0                 11.0            12   \n",
       "2  Sagittarius                  1.0                 30.0                 \n",
       "3  Sagittarius                  2.0                 21.0             1   \n",
       "4       Pisces                 12.0                 55.0            11   \n",
       "\n",
       "  mercury_retrograde  ... death_month  death_year    occupation gender  \\\n",
       "0                1.0  ...         NaN        1816    politician   Male   \n",
       "1                NaN  ...         NaN        1796        writer   Male   \n",
       "2                NaN  ...         NaN        1818       general   Male   \n",
       "3                NaN  ...         NaN        1770  writer, poet   Male   \n",
       "4                NaN  ...         NaN        1834        doctor   Male   \n",
       "\n",
       "  uranus_retrograde  jupiter_retrograde  pluto_retrograde saturn_retrograde  \\\n",
       "0               NaN                 NaN               NaN               NaN   \n",
       "1               1.0                 NaN               NaN               NaN   \n",
       "2               NaN                 1.0               NaN               NaN   \n",
       "3               NaN                 1.0               NaN               NaN   \n",
       "4               NaN                 NaN               NaN               NaN   \n",
       "\n",
       "  venus_retrograde  mars_retrograde  \n",
       "0              NaN              NaN  \n",
       "1              NaN              NaN  \n",
       "2              NaN              NaN  \n",
       "3              NaN              NaN  \n",
       "4              NaN              NaN  \n",
       "\n",
       "[5 rows x 95 columns]"
      ]
     },
     "execution_count": 132,
     "metadata": {},
     "output_type": "execute_result"
    }
   ],
   "source": [
    "df_original.head()"
   ]
  },
  {
   "attachments": {},
   "cell_type": "markdown",
   "id": "2507ae1d",
   "metadata": {},
   "source": [
    "# Data Cleaning - using clean_utils.py"
   ]
  },
  {
   "cell_type": "code",
   "execution_count": 133,
   "id": "8bc49eeb",
   "metadata": {},
   "outputs": [
    {
     "data": {
      "text/html": [
       "<div>\n",
       "<style scoped>\n",
       "    .dataframe tbody tr th:only-of-type {\n",
       "        vertical-align: middle;\n",
       "    }\n",
       "\n",
       "    .dataframe tbody tr th {\n",
       "        vertical-align: top;\n",
       "    }\n",
       "\n",
       "    .dataframe thead th {\n",
       "        text-align: right;\n",
       "    }\n",
       "</style>\n",
       "<table border=\"1\" class=\"dataframe\">\n",
       "  <thead>\n",
       "    <tr style=\"text-align: right;\">\n",
       "      <th></th>\n",
       "      <th>name</th>\n",
       "      <th>birth_day</th>\n",
       "      <th>birth_month</th>\n",
       "      <th>birth_year</th>\n",
       "      <th>birth_time</th>\n",
       "      <th>mercury_sign</th>\n",
       "      <th>mercury_pos_degrees</th>\n",
       "      <th>mercury_pos_minutes</th>\n",
       "      <th>mercury_house</th>\n",
       "      <th>mercury_retrograde</th>\n",
       "      <th>...</th>\n",
       "      <th>death_month</th>\n",
       "      <th>death_year</th>\n",
       "      <th>occupation</th>\n",
       "      <th>gender</th>\n",
       "      <th>uranus_retrograde</th>\n",
       "      <th>jupiter_retrograde</th>\n",
       "      <th>pluto_retrograde</th>\n",
       "      <th>saturn_retrograde</th>\n",
       "      <th>venus_retrograde</th>\n",
       "      <th>mars_retrograde</th>\n",
       "    </tr>\n",
       "  </thead>\n",
       "  <tbody>\n",
       "    <tr>\n",
       "      <th>0</th>\n",
       "      <td>Gouverneur Morris</td>\n",
       "      <td>30</td>\n",
       "      <td>1.0</td>\n",
       "      <td>1752</td>\n",
       "      <td>01:44</td>\n",
       "      <td>Aquarius</td>\n",
       "      <td>2.0</td>\n",
       "      <td>51.0</td>\n",
       "      <td>3</td>\n",
       "      <td>1.0</td>\n",
       "      <td>...</td>\n",
       "      <td>NaN</td>\n",
       "      <td>1816</td>\n",
       "      <td>politician</td>\n",
       "      <td>Male</td>\n",
       "      <td>NaN</td>\n",
       "      <td>NaN</td>\n",
       "      <td>NaN</td>\n",
       "      <td>NaN</td>\n",
       "      <td>NaN</td>\n",
       "      <td>NaN</td>\n",
       "    </tr>\n",
       "    <tr>\n",
       "      <th>1</th>\n",
       "      <td>Adolfh Freiherr Knigge</td>\n",
       "      <td>16</td>\n",
       "      <td>10.0</td>\n",
       "      <td>1752</td>\n",
       "      <td>05:30</td>\n",
       "      <td>Libra</td>\n",
       "      <td>6.0</td>\n",
       "      <td>11.0</td>\n",
       "      <td>12</td>\n",
       "      <td>NaN</td>\n",
       "      <td>...</td>\n",
       "      <td>NaN</td>\n",
       "      <td>1796</td>\n",
       "      <td>writer</td>\n",
       "      <td>Male</td>\n",
       "      <td>1.0</td>\n",
       "      <td>NaN</td>\n",
       "      <td>NaN</td>\n",
       "      <td>NaN</td>\n",
       "      <td>NaN</td>\n",
       "      <td>NaN</td>\n",
       "    </tr>\n",
       "    <tr>\n",
       "      <th>3</th>\n",
       "      <td>Thomas Chatterton</td>\n",
       "      <td>20</td>\n",
       "      <td>11.0</td>\n",
       "      <td>1752</td>\n",
       "      <td>06:14</td>\n",
       "      <td>Sagittarius</td>\n",
       "      <td>2.0</td>\n",
       "      <td>21.0</td>\n",
       "      <td>1</td>\n",
       "      <td>NaN</td>\n",
       "      <td>...</td>\n",
       "      <td>NaN</td>\n",
       "      <td>1770</td>\n",
       "      <td>writer, poet</td>\n",
       "      <td>Male</td>\n",
       "      <td>NaN</td>\n",
       "      <td>1.0</td>\n",
       "      <td>NaN</td>\n",
       "      <td>NaN</td>\n",
       "      <td>NaN</td>\n",
       "      <td>NaN</td>\n",
       "    </tr>\n",
       "    <tr>\n",
       "      <th>4</th>\n",
       "      <td>Solomon Drowne</td>\n",
       "      <td>11</td>\n",
       "      <td>3.0</td>\n",
       "      <td>1753</td>\n",
       "      <td>08:00</td>\n",
       "      <td>Pisces</td>\n",
       "      <td>12.0</td>\n",
       "      <td>55.0</td>\n",
       "      <td>11</td>\n",
       "      <td>NaN</td>\n",
       "      <td>...</td>\n",
       "      <td>NaN</td>\n",
       "      <td>1834</td>\n",
       "      <td>doctor</td>\n",
       "      <td>Male</td>\n",
       "      <td>NaN</td>\n",
       "      <td>NaN</td>\n",
       "      <td>NaN</td>\n",
       "      <td>NaN</td>\n",
       "      <td>NaN</td>\n",
       "      <td>NaN</td>\n",
       "    </tr>\n",
       "    <tr>\n",
       "      <th>6</th>\n",
       "      <td>Franz Carl Achard</td>\n",
       "      <td>28</td>\n",
       "      <td>4.0</td>\n",
       "      <td>1753</td>\n",
       "      <td>14:00</td>\n",
       "      <td>Taurus</td>\n",
       "      <td>19.0</td>\n",
       "      <td>31.0</td>\n",
       "      <td>9</td>\n",
       "      <td>1.0</td>\n",
       "      <td>...</td>\n",
       "      <td>NaN</td>\n",
       "      <td>1821</td>\n",
       "      <td>chemist</td>\n",
       "      <td>Male</td>\n",
       "      <td>NaN</td>\n",
       "      <td>NaN</td>\n",
       "      <td>1.0</td>\n",
       "      <td>1.0</td>\n",
       "      <td>NaN</td>\n",
       "      <td>NaN</td>\n",
       "    </tr>\n",
       "  </tbody>\n",
       "</table>\n",
       "<p>5 rows × 95 columns</p>\n",
       "</div>"
      ],
      "text/plain": [
       "                     name birth_day  birth_month birth_year birth_time  \\\n",
       "0       Gouverneur Morris        30          1.0       1752      01:44   \n",
       "1  Adolfh Freiherr Knigge        16         10.0       1752      05:30   \n",
       "3       Thomas Chatterton        20         11.0       1752      06:14   \n",
       "4          Solomon Drowne        11          3.0       1753      08:00   \n",
       "6       Franz Carl Achard        28          4.0       1753      14:00   \n",
       "\n",
       "  mercury_sign  mercury_pos_degrees  mercury_pos_minutes mercury_house  \\\n",
       "0     Aquarius                  2.0                 51.0             3   \n",
       "1        Libra                  6.0                 11.0            12   \n",
       "3  Sagittarius                  2.0                 21.0             1   \n",
       "4       Pisces                 12.0                 55.0            11   \n",
       "6       Taurus                 19.0                 31.0             9   \n",
       "\n",
       "  mercury_retrograde  ... death_month  death_year    occupation gender  \\\n",
       "0                1.0  ...         NaN        1816    politician   Male   \n",
       "1                NaN  ...         NaN        1796        writer   Male   \n",
       "3                NaN  ...         NaN        1770  writer, poet   Male   \n",
       "4                NaN  ...         NaN        1834        doctor   Male   \n",
       "6                1.0  ...         NaN        1821       chemist   Male   \n",
       "\n",
       "  uranus_retrograde  jupiter_retrograde  pluto_retrograde saturn_retrograde  \\\n",
       "0               NaN                 NaN               NaN               NaN   \n",
       "1               1.0                 NaN               NaN               NaN   \n",
       "3               NaN                 1.0               NaN               NaN   \n",
       "4               NaN                 NaN               NaN               NaN   \n",
       "6               NaN                 NaN               1.0               1.0   \n",
       "\n",
       "  venus_retrograde  mars_retrograde  \n",
       "0              NaN              NaN  \n",
       "1              NaN              NaN  \n",
       "3              NaN              NaN  \n",
       "4              NaN              NaN  \n",
       "6              NaN              NaN  \n",
       "\n",
       "[5 rows x 95 columns]"
      ]
     },
     "execution_count": 133,
     "metadata": {},
     "output_type": "execute_result"
    }
   ],
   "source": [
    "df = preprocess_data(df_original)\n",
    "df.head()"
   ]
  },
  {
   "cell_type": "code",
   "execution_count": 134,
   "id": "490d3a6e",
   "metadata": {},
   "outputs": [
    {
     "data": {
      "text/plain": [
       "object     42\n",
       "int64      30\n",
       "float64    23\n",
       "dtype: int64"
      ]
     },
     "execution_count": 134,
     "metadata": {},
     "output_type": "execute_result"
    }
   ],
   "source": [
    "df.dtypes.value_counts()"
   ]
  },
  {
   "cell_type": "code",
   "execution_count": 135,
   "id": "eeeab381",
   "metadata": {},
   "outputs": [
    {
     "data": {
      "text/html": [
       "<div>\n",
       "<style scoped>\n",
       "    .dataframe tbody tr th:only-of-type {\n",
       "        vertical-align: middle;\n",
       "    }\n",
       "\n",
       "    .dataframe tbody tr th {\n",
       "        vertical-align: top;\n",
       "    }\n",
       "\n",
       "    .dataframe thead th {\n",
       "        text-align: right;\n",
       "    }\n",
       "</style>\n",
       "<table border=\"1\" class=\"dataframe\">\n",
       "  <thead>\n",
       "    <tr style=\"text-align: right;\">\n",
       "      <th></th>\n",
       "      <th>name</th>\n",
       "      <th>birth_day</th>\n",
       "      <th>birth_month</th>\n",
       "      <th>birth_year</th>\n",
       "      <th>birth_time</th>\n",
       "      <th>mercury_sign</th>\n",
       "      <th>mercury_pos_degrees</th>\n",
       "      <th>mercury_pos_minutes</th>\n",
       "      <th>mercury_house</th>\n",
       "      <th>mercury_retrograde</th>\n",
       "      <th>...</th>\n",
       "      <th>death_month</th>\n",
       "      <th>death_year</th>\n",
       "      <th>occupation</th>\n",
       "      <th>gender</th>\n",
       "      <th>uranus_retrograde</th>\n",
       "      <th>jupiter_retrograde</th>\n",
       "      <th>pluto_retrograde</th>\n",
       "      <th>saturn_retrograde</th>\n",
       "      <th>venus_retrograde</th>\n",
       "      <th>mars_retrograde</th>\n",
       "    </tr>\n",
       "  </thead>\n",
       "  <tbody>\n",
       "    <tr>\n",
       "      <th>0</th>\n",
       "      <td>Gouverneur Morris</td>\n",
       "      <td>30</td>\n",
       "      <td>1.0</td>\n",
       "      <td>1752</td>\n",
       "      <td>01:44</td>\n",
       "      <td>Aquarius</td>\n",
       "      <td>2.0</td>\n",
       "      <td>51.0</td>\n",
       "      <td>3</td>\n",
       "      <td>1.0</td>\n",
       "      <td>...</td>\n",
       "      <td>0.0</td>\n",
       "      <td>1816</td>\n",
       "      <td>politician</td>\n",
       "      <td>Male</td>\n",
       "      <td></td>\n",
       "      <td>0.0</td>\n",
       "      <td></td>\n",
       "      <td>0.0</td>\n",
       "      <td>0.0</td>\n",
       "      <td>0.0</td>\n",
       "    </tr>\n",
       "    <tr>\n",
       "      <th>1</th>\n",
       "      <td>Adolfh Freiherr Knigge</td>\n",
       "      <td>16</td>\n",
       "      <td>10.0</td>\n",
       "      <td>1752</td>\n",
       "      <td>05:30</td>\n",
       "      <td>Libra</td>\n",
       "      <td>6.0</td>\n",
       "      <td>11.0</td>\n",
       "      <td>12</td>\n",
       "      <td></td>\n",
       "      <td>...</td>\n",
       "      <td>0.0</td>\n",
       "      <td>1796</td>\n",
       "      <td>writer</td>\n",
       "      <td>Male</td>\n",
       "      <td>1.0</td>\n",
       "      <td>0.0</td>\n",
       "      <td></td>\n",
       "      <td>0.0</td>\n",
       "      <td>0.0</td>\n",
       "      <td>0.0</td>\n",
       "    </tr>\n",
       "    <tr>\n",
       "      <th>3</th>\n",
       "      <td>Thomas Chatterton</td>\n",
       "      <td>20</td>\n",
       "      <td>11.0</td>\n",
       "      <td>1752</td>\n",
       "      <td>06:14</td>\n",
       "      <td>Sagittarius</td>\n",
       "      <td>2.0</td>\n",
       "      <td>21.0</td>\n",
       "      <td>1</td>\n",
       "      <td></td>\n",
       "      <td>...</td>\n",
       "      <td>0.0</td>\n",
       "      <td>1770</td>\n",
       "      <td>writer, poet</td>\n",
       "      <td>Male</td>\n",
       "      <td></td>\n",
       "      <td>1.0</td>\n",
       "      <td></td>\n",
       "      <td>0.0</td>\n",
       "      <td>0.0</td>\n",
       "      <td>0.0</td>\n",
       "    </tr>\n",
       "    <tr>\n",
       "      <th>4</th>\n",
       "      <td>Solomon Drowne</td>\n",
       "      <td>11</td>\n",
       "      <td>3.0</td>\n",
       "      <td>1753</td>\n",
       "      <td>08:00</td>\n",
       "      <td>Pisces</td>\n",
       "      <td>12.0</td>\n",
       "      <td>55.0</td>\n",
       "      <td>11</td>\n",
       "      <td></td>\n",
       "      <td>...</td>\n",
       "      <td>0.0</td>\n",
       "      <td>1834</td>\n",
       "      <td>doctor</td>\n",
       "      <td>Male</td>\n",
       "      <td></td>\n",
       "      <td>0.0</td>\n",
       "      <td></td>\n",
       "      <td>0.0</td>\n",
       "      <td>0.0</td>\n",
       "      <td>0.0</td>\n",
       "    </tr>\n",
       "    <tr>\n",
       "      <th>6</th>\n",
       "      <td>Franz Carl Achard</td>\n",
       "      <td>28</td>\n",
       "      <td>4.0</td>\n",
       "      <td>1753</td>\n",
       "      <td>14:00</td>\n",
       "      <td>Taurus</td>\n",
       "      <td>19.0</td>\n",
       "      <td>31.0</td>\n",
       "      <td>9</td>\n",
       "      <td>1.0</td>\n",
       "      <td>...</td>\n",
       "      <td>0.0</td>\n",
       "      <td>1821</td>\n",
       "      <td>chemist</td>\n",
       "      <td>Male</td>\n",
       "      <td></td>\n",
       "      <td>0.0</td>\n",
       "      <td>1.0</td>\n",
       "      <td>1.0</td>\n",
       "      <td>0.0</td>\n",
       "      <td>0.0</td>\n",
       "    </tr>\n",
       "    <tr>\n",
       "      <th>...</th>\n",
       "      <td>...</td>\n",
       "      <td>...</td>\n",
       "      <td>...</td>\n",
       "      <td>...</td>\n",
       "      <td>...</td>\n",
       "      <td>...</td>\n",
       "      <td>...</td>\n",
       "      <td>...</td>\n",
       "      <td>...</td>\n",
       "      <td>...</td>\n",
       "      <td>...</td>\n",
       "      <td>...</td>\n",
       "      <td>...</td>\n",
       "      <td>...</td>\n",
       "      <td>...</td>\n",
       "      <td>...</td>\n",
       "      <td>...</td>\n",
       "      <td>...</td>\n",
       "      <td>...</td>\n",
       "      <td>...</td>\n",
       "      <td>...</td>\n",
       "    </tr>\n",
       "    <tr>\n",
       "      <th>1962</th>\n",
       "      <td>Gilles Simon</td>\n",
       "      <td>27</td>\n",
       "      <td>12.0</td>\n",
       "      <td>1984</td>\n",
       "      <td>09:00</td>\n",
       "      <td>Sagittarius</td>\n",
       "      <td>15.0</td>\n",
       "      <td>1.0</td>\n",
       "      <td>11</td>\n",
       "      <td></td>\n",
       "      <td>...</td>\n",
       "      <td>0.0</td>\n",
       "      <td></td>\n",
       "      <td>tennis player</td>\n",
       "      <td>Male</td>\n",
       "      <td></td>\n",
       "      <td>0.0</td>\n",
       "      <td></td>\n",
       "      <td>0.0</td>\n",
       "      <td>0.0</td>\n",
       "      <td>0.0</td>\n",
       "    </tr>\n",
       "    <tr>\n",
       "      <th>1970</th>\n",
       "      <td>Sean Stone</td>\n",
       "      <td>29</td>\n",
       "      <td>12.0</td>\n",
       "      <td>1984</td>\n",
       "      <td>16:00</td>\n",
       "      <td>Sagittarius</td>\n",
       "      <td>16.0</td>\n",
       "      <td>22.0</td>\n",
       "      <td>6</td>\n",
       "      <td></td>\n",
       "      <td>...</td>\n",
       "      <td>0.0</td>\n",
       "      <td></td>\n",
       "      <td>actor</td>\n",
       "      <td>Male</td>\n",
       "      <td></td>\n",
       "      <td>0.0</td>\n",
       "      <td></td>\n",
       "      <td>0.0</td>\n",
       "      <td>0.0</td>\n",
       "      <td>0.0</td>\n",
       "    </tr>\n",
       "    <tr>\n",
       "      <th>1972</th>\n",
       "      <td>LeBron James</td>\n",
       "      <td>30</td>\n",
       "      <td>12.0</td>\n",
       "      <td>1984</td>\n",
       "      <td>16:04</td>\n",
       "      <td>Sagittarius</td>\n",
       "      <td>17.0</td>\n",
       "      <td>4.0</td>\n",
       "      <td>6</td>\n",
       "      <td></td>\n",
       "      <td>...</td>\n",
       "      <td>0.0</td>\n",
       "      <td></td>\n",
       "      <td>basketball player</td>\n",
       "      <td>Male</td>\n",
       "      <td></td>\n",
       "      <td>0.0</td>\n",
       "      <td></td>\n",
       "      <td>0.0</td>\n",
       "      <td>0.0</td>\n",
       "      <td>0.0</td>\n",
       "    </tr>\n",
       "    <tr>\n",
       "      <th>1974</th>\n",
       "      <td>Kady Zadora Riklis</td>\n",
       "      <td>1</td>\n",
       "      <td>1.0</td>\n",
       "      <td>1985</td>\n",
       "      <td>02:03</td>\n",
       "      <td>Sagittarius</td>\n",
       "      <td>18.0</td>\n",
       "      <td>13.0</td>\n",
       "      <td>2</td>\n",
       "      <td></td>\n",
       "      <td>...</td>\n",
       "      <td>0.0</td>\n",
       "      <td></td>\n",
       "      <td></td>\n",
       "      <td>Female</td>\n",
       "      <td></td>\n",
       "      <td>0.0</td>\n",
       "      <td></td>\n",
       "      <td>0.0</td>\n",
       "      <td>0.0</td>\n",
       "      <td>0.0</td>\n",
       "    </tr>\n",
       "    <tr>\n",
       "      <th>1999</th>\n",
       "      <td>Christielle Burbach</td>\n",
       "      <td>6</td>\n",
       "      <td>1.0</td>\n",
       "      <td>1985</td>\n",
       "      <td>12:10</td>\n",
       "      <td>Sagittarius</td>\n",
       "      <td>23.0</td>\n",
       "      <td>28.0</td>\n",
       "      <td>9</td>\n",
       "      <td></td>\n",
       "      <td>...</td>\n",
       "      <td>0.0</td>\n",
       "      <td>1989</td>\n",
       "      <td></td>\n",
       "      <td>Female</td>\n",
       "      <td></td>\n",
       "      <td>0.0</td>\n",
       "      <td></td>\n",
       "      <td>0.0</td>\n",
       "      <td>0.0</td>\n",
       "      <td>0.0</td>\n",
       "    </tr>\n",
       "  </tbody>\n",
       "</table>\n",
       "<p>20904 rows × 95 columns</p>\n",
       "</div>"
      ],
      "text/plain": [
       "                        name birth_day  birth_month birth_year birth_time  \\\n",
       "0          Gouverneur Morris        30          1.0       1752      01:44   \n",
       "1     Adolfh Freiherr Knigge        16         10.0       1752      05:30   \n",
       "3          Thomas Chatterton        20         11.0       1752      06:14   \n",
       "4             Solomon Drowne        11          3.0       1753      08:00   \n",
       "6          Franz Carl Achard        28          4.0       1753      14:00   \n",
       "...                      ...       ...          ...        ...        ...   \n",
       "1962            Gilles Simon        27         12.0       1984      09:00   \n",
       "1970              Sean Stone        29         12.0       1984      16:00   \n",
       "1972            LeBron James        30         12.0       1984      16:04   \n",
       "1974      Kady Zadora Riklis         1          1.0       1985      02:03   \n",
       "1999     Christielle Burbach         6          1.0       1985      12:10   \n",
       "\n",
       "     mercury_sign  mercury_pos_degrees  mercury_pos_minutes mercury_house  \\\n",
       "0        Aquarius                  2.0                 51.0             3   \n",
       "1           Libra                  6.0                 11.0            12   \n",
       "3     Sagittarius                  2.0                 21.0             1   \n",
       "4          Pisces                 12.0                 55.0            11   \n",
       "6          Taurus                 19.0                 31.0             9   \n",
       "...           ...                  ...                  ...           ...   \n",
       "1962  Sagittarius                 15.0                  1.0            11   \n",
       "1970  Sagittarius                 16.0                 22.0             6   \n",
       "1972  Sagittarius                 17.0                  4.0             6   \n",
       "1974  Sagittarius                 18.0                 13.0             2   \n",
       "1999  Sagittarius                 23.0                 28.0             9   \n",
       "\n",
       "     mercury_retrograde  ... death_month  death_year         occupation  \\\n",
       "0                   1.0  ...         0.0        1816         politician   \n",
       "1                        ...         0.0        1796             writer   \n",
       "3                        ...         0.0        1770       writer, poet   \n",
       "4                        ...         0.0        1834             doctor   \n",
       "6                   1.0  ...         0.0        1821            chemist   \n",
       "...                 ...  ...         ...         ...                ...   \n",
       "1962                     ...         0.0                  tennis player   \n",
       "1970                     ...         0.0                          actor   \n",
       "1972                     ...         0.0              basketball player   \n",
       "1974                     ...         0.0                                  \n",
       "1999                     ...         0.0        1989                      \n",
       "\n",
       "      gender uranus_retrograde  jupiter_retrograde  pluto_retrograde  \\\n",
       "0       Male                                   0.0                     \n",
       "1       Male               1.0                 0.0                     \n",
       "3       Male                                   1.0                     \n",
       "4       Male                                   0.0                     \n",
       "6       Male                                   0.0               1.0   \n",
       "...      ...               ...                 ...               ...   \n",
       "1962    Male                                   0.0                     \n",
       "1970    Male                                   0.0                     \n",
       "1972    Male                                   0.0                     \n",
       "1974  Female                                   0.0                     \n",
       "1999  Female                                   0.0                     \n",
       "\n",
       "     saturn_retrograde venus_retrograde  mars_retrograde  \n",
       "0                  0.0              0.0              0.0  \n",
       "1                  0.0              0.0              0.0  \n",
       "3                  0.0              0.0              0.0  \n",
       "4                  0.0              0.0              0.0  \n",
       "6                  1.0              0.0              0.0  \n",
       "...                ...              ...              ...  \n",
       "1962               0.0              0.0              0.0  \n",
       "1970               0.0              0.0              0.0  \n",
       "1972               0.0              0.0              0.0  \n",
       "1974               0.0              0.0              0.0  \n",
       "1999               0.0              0.0              0.0  \n",
       "\n",
       "[20904 rows x 95 columns]"
      ]
     },
     "execution_count": 135,
     "metadata": {},
     "output_type": "execute_result"
    }
   ],
   "source": [
    "df = fillna_all(df)\n",
    "df"
   ]
  },
  {
   "cell_type": "code",
   "execution_count": 136,
   "id": "de1e5c15",
   "metadata": {},
   "outputs": [
    {
     "data": {
      "text/plain": [
       "object     42\n",
       "int64      30\n",
       "float64    23\n",
       "dtype: int64"
      ]
     },
     "execution_count": 136,
     "metadata": {},
     "output_type": "execute_result"
    }
   ],
   "source": [
    "df.dtypes.value_counts()"
   ]
  },
  {
   "cell_type": "code",
   "execution_count": 137,
   "id": "9b3ae93d",
   "metadata": {},
   "outputs": [
    {
     "data": {
      "text/html": [
       "<div>\n",
       "<style scoped>\n",
       "    .dataframe tbody tr th:only-of-type {\n",
       "        vertical-align: middle;\n",
       "    }\n",
       "\n",
       "    .dataframe tbody tr th {\n",
       "        vertical-align: top;\n",
       "    }\n",
       "\n",
       "    .dataframe thead th {\n",
       "        text-align: right;\n",
       "    }\n",
       "</style>\n",
       "<table border=\"1\" class=\"dataframe\">\n",
       "  <thead>\n",
       "    <tr style=\"text-align: right;\">\n",
       "      <th></th>\n",
       "      <th>name</th>\n",
       "      <th>birth_day</th>\n",
       "      <th>birth_month</th>\n",
       "      <th>birth_year</th>\n",
       "      <th>birth_time</th>\n",
       "      <th>mercury_sign</th>\n",
       "      <th>mercury_pos_degrees</th>\n",
       "      <th>mercury_pos_minutes</th>\n",
       "      <th>mercury_house</th>\n",
       "      <th>mercury_retrograde</th>\n",
       "      <th>...</th>\n",
       "      <th>house_12_pos_minutes</th>\n",
       "      <th>death_cause</th>\n",
       "      <th>occupation</th>\n",
       "      <th>gender</th>\n",
       "      <th>uranus_retrograde</th>\n",
       "      <th>jupiter_retrograde</th>\n",
       "      <th>pluto_retrograde</th>\n",
       "      <th>saturn_retrograde</th>\n",
       "      <th>venus_retrograde</th>\n",
       "      <th>mars_retrograde</th>\n",
       "    </tr>\n",
       "  </thead>\n",
       "  <tbody>\n",
       "    <tr>\n",
       "      <th>0</th>\n",
       "      <td>Gouverneur Morris</td>\n",
       "      <td>30</td>\n",
       "      <td>1.0</td>\n",
       "      <td>1752</td>\n",
       "      <td>01:44</td>\n",
       "      <td>Aquarius</td>\n",
       "      <td>2.0</td>\n",
       "      <td>51.0</td>\n",
       "      <td>3</td>\n",
       "      <td>1.0</td>\n",
       "      <td>...</td>\n",
       "      <td>17</td>\n",
       "      <td></td>\n",
       "      <td>politician</td>\n",
       "      <td>Male</td>\n",
       "      <td></td>\n",
       "      <td>0.0</td>\n",
       "      <td></td>\n",
       "      <td>0.0</td>\n",
       "      <td>0.0</td>\n",
       "      <td>0.0</td>\n",
       "    </tr>\n",
       "    <tr>\n",
       "      <th>1</th>\n",
       "      <td>Adolfh Freiherr Knigge</td>\n",
       "      <td>16</td>\n",
       "      <td>10.0</td>\n",
       "      <td>1752</td>\n",
       "      <td>05:30</td>\n",
       "      <td>Libra</td>\n",
       "      <td>6.0</td>\n",
       "      <td>11.0</td>\n",
       "      <td>12</td>\n",
       "      <td></td>\n",
       "      <td>...</td>\n",
       "      <td>14</td>\n",
       "      <td></td>\n",
       "      <td>writer</td>\n",
       "      <td>Male</td>\n",
       "      <td>1.0</td>\n",
       "      <td>0.0</td>\n",
       "      <td></td>\n",
       "      <td>0.0</td>\n",
       "      <td>0.0</td>\n",
       "      <td>0.0</td>\n",
       "    </tr>\n",
       "    <tr>\n",
       "      <th>3</th>\n",
       "      <td>Thomas Chatterton</td>\n",
       "      <td>20</td>\n",
       "      <td>11.0</td>\n",
       "      <td>1752</td>\n",
       "      <td>06:14</td>\n",
       "      <td>Sagittarius</td>\n",
       "      <td>2.0</td>\n",
       "      <td>21.0</td>\n",
       "      <td>1</td>\n",
       "      <td></td>\n",
       "      <td>...</td>\n",
       "      <td>25</td>\n",
       "      <td>Suicide by Poisoning</td>\n",
       "      <td>writer, poet</td>\n",
       "      <td>Male</td>\n",
       "      <td></td>\n",
       "      <td>1.0</td>\n",
       "      <td></td>\n",
       "      <td>0.0</td>\n",
       "      <td>0.0</td>\n",
       "      <td>0.0</td>\n",
       "    </tr>\n",
       "    <tr>\n",
       "      <th>4</th>\n",
       "      <td>Solomon Drowne</td>\n",
       "      <td>11</td>\n",
       "      <td>3.0</td>\n",
       "      <td>1753</td>\n",
       "      <td>08:00</td>\n",
       "      <td>Pisces</td>\n",
       "      <td>12.0</td>\n",
       "      <td>55.0</td>\n",
       "      <td>11</td>\n",
       "      <td></td>\n",
       "      <td>...</td>\n",
       "      <td>30</td>\n",
       "      <td></td>\n",
       "      <td>doctor</td>\n",
       "      <td>Male</td>\n",
       "      <td></td>\n",
       "      <td>0.0</td>\n",
       "      <td></td>\n",
       "      <td>0.0</td>\n",
       "      <td>0.0</td>\n",
       "      <td>0.0</td>\n",
       "    </tr>\n",
       "    <tr>\n",
       "      <th>6</th>\n",
       "      <td>Franz Carl Achard</td>\n",
       "      <td>28</td>\n",
       "      <td>4.0</td>\n",
       "      <td>1753</td>\n",
       "      <td>14:00</td>\n",
       "      <td>Taurus</td>\n",
       "      <td>19.0</td>\n",
       "      <td>31.0</td>\n",
       "      <td>9</td>\n",
       "      <td>1.0</td>\n",
       "      <td>...</td>\n",
       "      <td>16</td>\n",
       "      <td></td>\n",
       "      <td>chemist</td>\n",
       "      <td>Male</td>\n",
       "      <td></td>\n",
       "      <td>0.0</td>\n",
       "      <td>1.0</td>\n",
       "      <td>1.0</td>\n",
       "      <td>0.0</td>\n",
       "      <td>0.0</td>\n",
       "    </tr>\n",
       "  </tbody>\n",
       "</table>\n",
       "<p>5 rows × 92 columns</p>\n",
       "</div>"
      ],
      "text/plain": [
       "                     name birth_day  birth_month birth_year birth_time  \\\n",
       "0       Gouverneur Morris        30          1.0       1752      01:44   \n",
       "1  Adolfh Freiherr Knigge        16         10.0       1752      05:30   \n",
       "3       Thomas Chatterton        20         11.0       1752      06:14   \n",
       "4          Solomon Drowne        11          3.0       1753      08:00   \n",
       "6       Franz Carl Achard        28          4.0       1753      14:00   \n",
       "\n",
       "  mercury_sign  mercury_pos_degrees  mercury_pos_minutes mercury_house  \\\n",
       "0     Aquarius                  2.0                 51.0             3   \n",
       "1        Libra                  6.0                 11.0            12   \n",
       "3  Sagittarius                  2.0                 21.0             1   \n",
       "4       Pisces                 12.0                 55.0            11   \n",
       "6       Taurus                 19.0                 31.0             9   \n",
       "\n",
       "  mercury_retrograde  ... house_12_pos_minutes           death_cause  \\\n",
       "0                1.0  ...                   17                         \n",
       "1                     ...                   14                         \n",
       "3                     ...                   25  Suicide by Poisoning   \n",
       "4                     ...                   30                         \n",
       "6                1.0  ...                   16                         \n",
       "\n",
       "     occupation gender uranus_retrograde  jupiter_retrograde  \\\n",
       "0    politician   Male                                   0.0   \n",
       "1        writer   Male               1.0                 0.0   \n",
       "3  writer, poet   Male                                   1.0   \n",
       "4        doctor   Male                                   0.0   \n",
       "6       chemist   Male                                   0.0   \n",
       "\n",
       "   pluto_retrograde saturn_retrograde venus_retrograde  mars_retrograde  \n",
       "0                                 0.0              0.0              0.0  \n",
       "1                                 0.0              0.0              0.0  \n",
       "3                                 0.0              0.0              0.0  \n",
       "4                                 0.0              0.0              0.0  \n",
       "6               1.0               1.0              0.0              0.0  \n",
       "\n",
       "[5 rows x 92 columns]"
      ]
     },
     "execution_count": 137,
     "metadata": {},
     "output_type": "execute_result"
    }
   ],
   "source": [
    "columns_to_delete=['death_day', 'death_month', 'death_year']\n",
    "df.drop(columns=columns_to_delete, inplace=True)\n",
    "df.head()"
   ]
  },
  {
   "cell_type": "code",
   "execution_count": 138,
   "id": "22cd380b",
   "metadata": {},
   "outputs": [
    {
     "data": {
      "text/plain": [
       "Index(['mercury_retrograde', 'neptune_retrograde', 'uranus_retrograde',\n",
       "       'jupiter_retrograde', 'pluto_retrograde', 'saturn_retrograde',\n",
       "       'venus_retrograde', 'mars_retrograde'],\n",
       "      dtype='object')"
      ]
     },
     "execution_count": 138,
     "metadata": {},
     "output_type": "execute_result"
    }
   ],
   "source": [
    "damn_retrogrades = df.filter(like='retrograde').columns\n",
    "damn_retrogrades \n",
    "\n",
    "# list before cleaning"
   ]
  },
  {
   "cell_type": "code",
   "execution_count": 139,
   "id": "a075c741",
   "metadata": {},
   "outputs": [
    {
     "data": {
      "text/plain": [
       "       17102\n",
       "1.0     3802\n",
       "Name: mercury_retrograde, dtype: int64"
      ]
     },
     "execution_count": 139,
     "metadata": {},
     "output_type": "execute_result"
    }
   ],
   "source": [
    "df.mercury_retrograde.value_counts()"
   ]
  },
  {
   "cell_type": "code",
   "execution_count": 140,
   "id": "7daefa55",
   "metadata": {},
   "outputs": [
    {
     "data": {
      "text/plain": [
       "       11839\n",
       "1.0     9065\n",
       "Name: neptune_retrograde, dtype: int64"
      ]
     },
     "execution_count": 140,
     "metadata": {},
     "output_type": "execute_result"
    }
   ],
   "source": [
    "df.neptune_retrograde.value_counts()"
   ]
  },
  {
   "cell_type": "code",
   "execution_count": 141,
   "id": "22707040",
   "metadata": {},
   "outputs": [
    {
     "data": {
      "text/plain": [
       "       12388\n",
       "1.0     8516\n",
       "Name: uranus_retrograde, dtype: int64"
      ]
     },
     "execution_count": 141,
     "metadata": {},
     "output_type": "execute_result"
    }
   ],
   "source": [
    "df.uranus_retrograde.value_counts()"
   ]
  },
  {
   "cell_type": "code",
   "execution_count": 142,
   "id": "5b4a2eb4",
   "metadata": {},
   "outputs": [
    {
     "data": {
      "text/plain": [
       "0.0    14688\n",
       "1.0     6216\n",
       "Name: jupiter_retrograde, dtype: int64"
      ]
     },
     "execution_count": 142,
     "metadata": {},
     "output_type": "execute_result"
    }
   ],
   "source": [
    "df.jupiter_retrograde.value_counts()"
   ]
  },
  {
   "cell_type": "code",
   "execution_count": 143,
   "id": "0b020284",
   "metadata": {},
   "outputs": [
    {
     "data": {
      "text/plain": [
       "       11738\n",
       "1.0     9166\n",
       "Name: pluto_retrograde, dtype: int64"
      ]
     },
     "execution_count": 143,
     "metadata": {},
     "output_type": "execute_result"
    }
   ],
   "source": [
    "df.pluto_retrograde.value_counts()"
   ]
  },
  {
   "cell_type": "code",
   "execution_count": 144,
   "id": "5829ba94",
   "metadata": {},
   "outputs": [
    {
     "data": {
      "text/plain": [
       "0.0    13407\n",
       "1.0     7497\n",
       "Name: saturn_retrograde, dtype: int64"
      ]
     },
     "execution_count": 144,
     "metadata": {},
     "output_type": "execute_result"
    }
   ],
   "source": [
    "df.saturn_retrograde.value_counts()"
   ]
  },
  {
   "cell_type": "code",
   "execution_count": 145,
   "id": "f85a6aec",
   "metadata": {},
   "outputs": [
    {
     "data": {
      "text/plain": [
       "0.0    19417\n",
       "1.0     1487\n",
       "Name: venus_retrograde, dtype: int64"
      ]
     },
     "execution_count": 145,
     "metadata": {},
     "output_type": "execute_result"
    }
   ],
   "source": [
    "df.venus_retrograde.value_counts()"
   ]
  },
  {
   "cell_type": "code",
   "execution_count": 146,
   "id": "225a608f",
   "metadata": {},
   "outputs": [
    {
     "data": {
      "text/plain": [
       "0.0    18998\n",
       "1.0     1906\n",
       "Name: mars_retrograde, dtype: int64"
      ]
     },
     "execution_count": 146,
     "metadata": {},
     "output_type": "execute_result"
    }
   ],
   "source": [
    "df.mars_retrograde.value_counts()"
   ]
  },
  {
   "cell_type": "code",
   "execution_count": 147,
   "id": "e47a7b2b",
   "metadata": {},
   "outputs": [
    {
     "data": {
      "text/html": [
       "<div>\n",
       "<style scoped>\n",
       "    .dataframe tbody tr th:only-of-type {\n",
       "        vertical-align: middle;\n",
       "    }\n",
       "\n",
       "    .dataframe tbody tr th {\n",
       "        vertical-align: top;\n",
       "    }\n",
       "\n",
       "    .dataframe thead th {\n",
       "        text-align: right;\n",
       "    }\n",
       "</style>\n",
       "<table border=\"1\" class=\"dataframe\">\n",
       "  <thead>\n",
       "    <tr style=\"text-align: right;\">\n",
       "      <th></th>\n",
       "      <th>name</th>\n",
       "      <th>birth_day</th>\n",
       "      <th>birth_month</th>\n",
       "      <th>birth_year</th>\n",
       "      <th>birth_time</th>\n",
       "      <th>mercury_sign</th>\n",
       "      <th>mercury_pos_degrees</th>\n",
       "      <th>mercury_pos_minutes</th>\n",
       "      <th>mercury_house</th>\n",
       "      <th>mercury_retrograde</th>\n",
       "      <th>...</th>\n",
       "      <th>house_12_pos_minutes</th>\n",
       "      <th>death_cause</th>\n",
       "      <th>occupation</th>\n",
       "      <th>gender</th>\n",
       "      <th>uranus_retrograde</th>\n",
       "      <th>jupiter_retrograde</th>\n",
       "      <th>pluto_retrograde</th>\n",
       "      <th>saturn_retrograde</th>\n",
       "      <th>venus_retrograde</th>\n",
       "      <th>mars_retrograde</th>\n",
       "    </tr>\n",
       "  </thead>\n",
       "  <tbody>\n",
       "    <tr>\n",
       "      <th>0</th>\n",
       "      <td>Gouverneur Morris</td>\n",
       "      <td>30</td>\n",
       "      <td>1</td>\n",
       "      <td>1752</td>\n",
       "      <td>01:44</td>\n",
       "      <td>Aquarius</td>\n",
       "      <td>2</td>\n",
       "      <td>51.0</td>\n",
       "      <td>3</td>\n",
       "      <td>1</td>\n",
       "      <td>...</td>\n",
       "      <td>17.0</td>\n",
       "      <td></td>\n",
       "      <td>politician</td>\n",
       "      <td>Male</td>\n",
       "      <td>0</td>\n",
       "      <td>0</td>\n",
       "      <td>0</td>\n",
       "      <td>0</td>\n",
       "      <td>0</td>\n",
       "      <td>0</td>\n",
       "    </tr>\n",
       "    <tr>\n",
       "      <th>1</th>\n",
       "      <td>Adolfh Freiherr Knigge</td>\n",
       "      <td>16</td>\n",
       "      <td>10</td>\n",
       "      <td>1752</td>\n",
       "      <td>05:30</td>\n",
       "      <td>Libra</td>\n",
       "      <td>6</td>\n",
       "      <td>11.0</td>\n",
       "      <td>12</td>\n",
       "      <td>0</td>\n",
       "      <td>...</td>\n",
       "      <td>14.0</td>\n",
       "      <td></td>\n",
       "      <td>writer</td>\n",
       "      <td>Male</td>\n",
       "      <td>1</td>\n",
       "      <td>0</td>\n",
       "      <td>0</td>\n",
       "      <td>0</td>\n",
       "      <td>0</td>\n",
       "      <td>0</td>\n",
       "    </tr>\n",
       "    <tr>\n",
       "      <th>3</th>\n",
       "      <td>Thomas Chatterton</td>\n",
       "      <td>20</td>\n",
       "      <td>11</td>\n",
       "      <td>1752</td>\n",
       "      <td>06:14</td>\n",
       "      <td>Sagittarius</td>\n",
       "      <td>2</td>\n",
       "      <td>21.0</td>\n",
       "      <td>1</td>\n",
       "      <td>0</td>\n",
       "      <td>...</td>\n",
       "      <td>25.0</td>\n",
       "      <td>Suicide by Poisoning</td>\n",
       "      <td>writer, poet</td>\n",
       "      <td>Male</td>\n",
       "      <td>0</td>\n",
       "      <td>1</td>\n",
       "      <td>0</td>\n",
       "      <td>0</td>\n",
       "      <td>0</td>\n",
       "      <td>0</td>\n",
       "    </tr>\n",
       "    <tr>\n",
       "      <th>4</th>\n",
       "      <td>Solomon Drowne</td>\n",
       "      <td>11</td>\n",
       "      <td>3</td>\n",
       "      <td>1753</td>\n",
       "      <td>08:00</td>\n",
       "      <td>Pisces</td>\n",
       "      <td>12</td>\n",
       "      <td>55.0</td>\n",
       "      <td>11</td>\n",
       "      <td>0</td>\n",
       "      <td>...</td>\n",
       "      <td>30.0</td>\n",
       "      <td></td>\n",
       "      <td>doctor</td>\n",
       "      <td>Male</td>\n",
       "      <td>0</td>\n",
       "      <td>0</td>\n",
       "      <td>0</td>\n",
       "      <td>0</td>\n",
       "      <td>0</td>\n",
       "      <td>0</td>\n",
       "    </tr>\n",
       "    <tr>\n",
       "      <th>6</th>\n",
       "      <td>Franz Carl Achard</td>\n",
       "      <td>28</td>\n",
       "      <td>4</td>\n",
       "      <td>1753</td>\n",
       "      <td>14:00</td>\n",
       "      <td>Taurus</td>\n",
       "      <td>19</td>\n",
       "      <td>31.0</td>\n",
       "      <td>9</td>\n",
       "      <td>1</td>\n",
       "      <td>...</td>\n",
       "      <td>16.0</td>\n",
       "      <td></td>\n",
       "      <td>chemist</td>\n",
       "      <td>Male</td>\n",
       "      <td>0</td>\n",
       "      <td>0</td>\n",
       "      <td>1</td>\n",
       "      <td>1</td>\n",
       "      <td>0</td>\n",
       "      <td>0</td>\n",
       "    </tr>\n",
       "    <tr>\n",
       "      <th>...</th>\n",
       "      <td>...</td>\n",
       "      <td>...</td>\n",
       "      <td>...</td>\n",
       "      <td>...</td>\n",
       "      <td>...</td>\n",
       "      <td>...</td>\n",
       "      <td>...</td>\n",
       "      <td>...</td>\n",
       "      <td>...</td>\n",
       "      <td>...</td>\n",
       "      <td>...</td>\n",
       "      <td>...</td>\n",
       "      <td>...</td>\n",
       "      <td>...</td>\n",
       "      <td>...</td>\n",
       "      <td>...</td>\n",
       "      <td>...</td>\n",
       "      <td>...</td>\n",
       "      <td>...</td>\n",
       "      <td>...</td>\n",
       "      <td>...</td>\n",
       "    </tr>\n",
       "    <tr>\n",
       "      <th>1962</th>\n",
       "      <td>Gilles Simon</td>\n",
       "      <td>27</td>\n",
       "      <td>12</td>\n",
       "      <td>1984</td>\n",
       "      <td>09:00</td>\n",
       "      <td>Sagittarius</td>\n",
       "      <td>15</td>\n",
       "      <td>1.0</td>\n",
       "      <td>11</td>\n",
       "      <td>0</td>\n",
       "      <td>...</td>\n",
       "      <td>11.0</td>\n",
       "      <td></td>\n",
       "      <td>tennis player</td>\n",
       "      <td>Male</td>\n",
       "      <td>0</td>\n",
       "      <td>0</td>\n",
       "      <td>0</td>\n",
       "      <td>0</td>\n",
       "      <td>0</td>\n",
       "      <td>0</td>\n",
       "    </tr>\n",
       "    <tr>\n",
       "      <th>1970</th>\n",
       "      <td>Sean Stone</td>\n",
       "      <td>29</td>\n",
       "      <td>12</td>\n",
       "      <td>1984</td>\n",
       "      <td>16:00</td>\n",
       "      <td>Sagittarius</td>\n",
       "      <td>16</td>\n",
       "      <td>22.0</td>\n",
       "      <td>6</td>\n",
       "      <td>0</td>\n",
       "      <td>...</td>\n",
       "      <td>4.0</td>\n",
       "      <td></td>\n",
       "      <td>actor</td>\n",
       "      <td>Male</td>\n",
       "      <td>0</td>\n",
       "      <td>0</td>\n",
       "      <td>0</td>\n",
       "      <td>0</td>\n",
       "      <td>0</td>\n",
       "      <td>0</td>\n",
       "    </tr>\n",
       "    <tr>\n",
       "      <th>1972</th>\n",
       "      <td>LeBron James</td>\n",
       "      <td>30</td>\n",
       "      <td>12</td>\n",
       "      <td>1984</td>\n",
       "      <td>16:04</td>\n",
       "      <td>Sagittarius</td>\n",
       "      <td>17</td>\n",
       "      <td>4.0</td>\n",
       "      <td>6</td>\n",
       "      <td>0</td>\n",
       "      <td>...</td>\n",
       "      <td>36.0</td>\n",
       "      <td></td>\n",
       "      <td>basketball player</td>\n",
       "      <td>Male</td>\n",
       "      <td>0</td>\n",
       "      <td>0</td>\n",
       "      <td>0</td>\n",
       "      <td>0</td>\n",
       "      <td>0</td>\n",
       "      <td>0</td>\n",
       "    </tr>\n",
       "    <tr>\n",
       "      <th>1974</th>\n",
       "      <td>Kady Zadora Riklis</td>\n",
       "      <td>1</td>\n",
       "      <td>1</td>\n",
       "      <td>1985</td>\n",
       "      <td>02:03</td>\n",
       "      <td>Sagittarius</td>\n",
       "      <td>18</td>\n",
       "      <td>13.0</td>\n",
       "      <td>2</td>\n",
       "      <td>0</td>\n",
       "      <td>...</td>\n",
       "      <td>0.0</td>\n",
       "      <td></td>\n",
       "      <td></td>\n",
       "      <td>Female</td>\n",
       "      <td>0</td>\n",
       "      <td>0</td>\n",
       "      <td>0</td>\n",
       "      <td>0</td>\n",
       "      <td>0</td>\n",
       "      <td>0</td>\n",
       "    </tr>\n",
       "    <tr>\n",
       "      <th>1999</th>\n",
       "      <td>Christielle Burbach</td>\n",
       "      <td>6</td>\n",
       "      <td>1</td>\n",
       "      <td>1985</td>\n",
       "      <td>12:10</td>\n",
       "      <td>Sagittarius</td>\n",
       "      <td>23</td>\n",
       "      <td>28.0</td>\n",
       "      <td>9</td>\n",
       "      <td>0</td>\n",
       "      <td>...</td>\n",
       "      <td>46.0</td>\n",
       "      <td>Murder</td>\n",
       "      <td></td>\n",
       "      <td>Female</td>\n",
       "      <td>0</td>\n",
       "      <td>0</td>\n",
       "      <td>0</td>\n",
       "      <td>0</td>\n",
       "      <td>0</td>\n",
       "      <td>0</td>\n",
       "    </tr>\n",
       "  </tbody>\n",
       "</table>\n",
       "<p>20904 rows × 92 columns</p>\n",
       "</div>"
      ],
      "text/plain": [
       "                        name  birth_day  birth_month  birth_year birth_time  \\\n",
       "0          Gouverneur Morris         30            1        1752      01:44   \n",
       "1     Adolfh Freiherr Knigge         16           10        1752      05:30   \n",
       "3          Thomas Chatterton         20           11        1752      06:14   \n",
       "4             Solomon Drowne         11            3        1753      08:00   \n",
       "6          Franz Carl Achard         28            4        1753      14:00   \n",
       "...                      ...        ...          ...         ...        ...   \n",
       "1962            Gilles Simon         27           12        1984      09:00   \n",
       "1970              Sean Stone         29           12        1984      16:00   \n",
       "1972            LeBron James         30           12        1984      16:04   \n",
       "1974      Kady Zadora Riklis          1            1        1985      02:03   \n",
       "1999     Christielle Burbach          6            1        1985      12:10   \n",
       "\n",
       "     mercury_sign  mercury_pos_degrees  mercury_pos_minutes  mercury_house  \\\n",
       "0        Aquarius                    2                 51.0              3   \n",
       "1           Libra                    6                 11.0             12   \n",
       "3     Sagittarius                    2                 21.0              1   \n",
       "4          Pisces                   12                 55.0             11   \n",
       "6          Taurus                   19                 31.0              9   \n",
       "...           ...                  ...                  ...            ...   \n",
       "1962  Sagittarius                   15                  1.0             11   \n",
       "1970  Sagittarius                   16                 22.0              6   \n",
       "1972  Sagittarius                   17                  4.0              6   \n",
       "1974  Sagittarius                   18                 13.0              2   \n",
       "1999  Sagittarius                   23                 28.0              9   \n",
       "\n",
       "      mercury_retrograde  ... house_12_pos_minutes           death_cause  \\\n",
       "0                      1  ...                 17.0                         \n",
       "1                      0  ...                 14.0                         \n",
       "3                      0  ...                 25.0  Suicide by Poisoning   \n",
       "4                      0  ...                 30.0                         \n",
       "6                      1  ...                 16.0                         \n",
       "...                  ...  ...                  ...                   ...   \n",
       "1962                   0  ...                 11.0                         \n",
       "1970                   0  ...                  4.0                         \n",
       "1972                   0  ...                 36.0                         \n",
       "1974                   0  ...                  0.0                         \n",
       "1999                   0  ...                 46.0                Murder   \n",
       "\n",
       "             occupation  gender uranus_retrograde  jupiter_retrograde  \\\n",
       "0            politician    Male                 0                   0   \n",
       "1                writer    Male                 1                   0   \n",
       "3          writer, poet    Male                 0                   1   \n",
       "4                doctor    Male                 0                   0   \n",
       "6               chemist    Male                 0                   0   \n",
       "...                 ...     ...               ...                 ...   \n",
       "1962      tennis player    Male                 0                   0   \n",
       "1970              actor    Male                 0                   0   \n",
       "1972  basketball player    Male                 0                   0   \n",
       "1974                     Female                 0                   0   \n",
       "1999                     Female                 0                   0   \n",
       "\n",
       "      pluto_retrograde  saturn_retrograde venus_retrograde  mars_retrograde  \n",
       "0                    0                  0                0                0  \n",
       "1                    0                  0                0                0  \n",
       "3                    0                  0                0                0  \n",
       "4                    0                  0                0                0  \n",
       "6                    1                  1                0                0  \n",
       "...                ...                ...              ...              ...  \n",
       "1962                 0                  0                0                0  \n",
       "1970                 0                  0                0                0  \n",
       "1972                 0                  0                0                0  \n",
       "1974                 0                  0                0                0  \n",
       "1999                 0                  0                0                0  \n",
       "\n",
       "[20904 rows x 92 columns]"
      ]
     },
     "execution_count": 147,
     "metadata": {},
     "output_type": "execute_result"
    }
   ],
   "source": [
    "df_clean = clean_df(df)\n",
    "df_clean"
   ]
  },
  {
   "cell_type": "code",
   "execution_count": 148,
   "id": "cc3b57c6",
   "metadata": {},
   "outputs": [
    {
     "data": {
      "text/plain": [
       "int64      43\n",
       "object     27\n",
       "float64    22\n",
       "dtype: int64"
      ]
     },
     "execution_count": 148,
     "metadata": {},
     "output_type": "execute_result"
    }
   ],
   "source": [
    "df_clean.dtypes.value_counts()"
   ]
  },
  {
   "cell_type": "code",
   "execution_count": 149,
   "id": "975777b8",
   "metadata": {},
   "outputs": [
    {
     "data": {
      "text/plain": [
       "['name',\n",
       " 'birth_time',\n",
       " 'mercury_sign',\n",
       " 'venus_sign',\n",
       " 'mars_sign',\n",
       " 'sun_sign',\n",
       " 'moon_sign',\n",
       " 'jupiter_sign',\n",
       " 'saturn_sign',\n",
       " 'uranus_sign',\n",
       " 'neptune_sign',\n",
       " 'pluto_sign',\n",
       " 'house_AC_sign',\n",
       " 'house_2_sign',\n",
       " 'house_3_sign',\n",
       " 'house_IC_sign',\n",
       " 'house_5_sign',\n",
       " 'house_6_sign',\n",
       " 'house_DC_sign',\n",
       " 'house_8_sign',\n",
       " 'house_9_sign',\n",
       " 'house_MC_sign',\n",
       " 'house_11_sign',\n",
       " 'house_12_sign',\n",
       " 'death_cause',\n",
       " 'occupation',\n",
       " 'gender']"
      ]
     },
     "execution_count": 149,
     "metadata": {},
     "output_type": "execute_result"
    }
   ],
   "source": [
    "cols_object = list(df_clean.select_dtypes(include='object').columns)\n",
    "cols_object"
   ]
  },
  {
   "cell_type": "code",
   "execution_count": 150,
   "id": "a995453d",
   "metadata": {},
   "outputs": [
    {
     "data": {
      "text/plain": [
       "['birth_day',\n",
       " 'birth_month',\n",
       " 'birth_year',\n",
       " 'mercury_pos_degrees',\n",
       " 'mercury_house',\n",
       " 'mercury_retrograde',\n",
       " 'venus_pos_degrees',\n",
       " 'venus_house',\n",
       " 'mars_pos_degrees',\n",
       " 'mars_house',\n",
       " 'sun_pos_degrees',\n",
       " 'sun_house',\n",
       " 'moon_pos_degrees',\n",
       " 'moon_house',\n",
       " 'jupiter_pos_degrees',\n",
       " 'jupiter_house',\n",
       " 'saturn_pos_degrees',\n",
       " 'saturn_house',\n",
       " 'uranus_pos_degrees',\n",
       " 'uranus_house',\n",
       " 'neptune_pos_degrees',\n",
       " 'neptune_house',\n",
       " 'neptune_retrograde',\n",
       " 'pluto_pos_degrees',\n",
       " 'pluto_house',\n",
       " 'house_AC_pos_degrees',\n",
       " 'house_2_pos_degrees',\n",
       " 'house_3_pos_degrees',\n",
       " 'house_IC_pos_degrees',\n",
       " 'house_5_pos_degrees',\n",
       " 'house_6_pos_degrees',\n",
       " 'house_DC_pos_degrees',\n",
       " 'house_8_pos_degrees',\n",
       " 'house_9_pos_degrees',\n",
       " 'house_MC_pos_degrees',\n",
       " 'house_11_pos_degrees',\n",
       " 'house_12_pos_degrees',\n",
       " 'uranus_retrograde',\n",
       " 'jupiter_retrograde',\n",
       " 'pluto_retrograde',\n",
       " 'saturn_retrograde',\n",
       " 'venus_retrograde',\n",
       " 'mars_retrograde']"
      ]
     },
     "execution_count": 150,
     "metadata": {},
     "output_type": "execute_result"
    }
   ],
   "source": [
    "cols_int = list(df_clean.select_dtypes(include='int').columns)\n",
    "cols_int"
   ]
  },
  {
   "cell_type": "code",
   "execution_count": 151,
   "id": "e3e1b30a",
   "metadata": {},
   "outputs": [
    {
     "data": {
      "text/plain": [
       "['mercury_pos_minutes',\n",
       " 'venus_pos_minutes',\n",
       " 'mars_pos_minutes',\n",
       " 'sun_pos_minutes',\n",
       " 'moon_pos_minutes',\n",
       " 'jupiter_pos_minutes',\n",
       " 'saturn_pos_minutes',\n",
       " 'uranus_pos_minutes',\n",
       " 'neptune_pos_minutes',\n",
       " 'pluto_pos_minutes',\n",
       " 'house_AC_pos_minutes',\n",
       " 'house_2_pos_minutes',\n",
       " 'house_3_pos_minutes',\n",
       " 'house_IC_pos_minutes',\n",
       " 'house_5_pos_minutes',\n",
       " 'house_6_pos_minutes',\n",
       " 'house_DC_pos_minutes',\n",
       " 'house_8_pos_minutes',\n",
       " 'house_9_pos_minutes',\n",
       " 'house_MC_pos_minutes',\n",
       " 'house_11_pos_minutes',\n",
       " 'house_12_pos_minutes']"
      ]
     },
     "execution_count": 151,
     "metadata": {},
     "output_type": "execute_result"
    }
   ],
   "source": [
    "cols_float = list(df_clean.select_dtypes(include='float').columns)\n",
    "cols_float"
   ]
  },
  {
   "cell_type": "code",
   "execution_count": 152,
   "id": "64c740a9",
   "metadata": {},
   "outputs": [
    {
     "data": {
      "text/plain": [
       "0    19417\n",
       "1     1487\n",
       "Name: venus_retrograde, dtype: int64"
      ]
     },
     "execution_count": 152,
     "metadata": {},
     "output_type": "execute_result"
    }
   ],
   "source": [
    "# testing cleaning for the naughty columns\n",
    "df_clean.venus_retrograde.value_counts()"
   ]
  },
  {
   "cell_type": "code",
   "execution_count": 153,
   "id": "7ce9be69",
   "metadata": {},
   "outputs": [
    {
     "data": {
      "text/plain": [
       "0    12388\n",
       "1     8516\n",
       "Name: uranus_retrograde, dtype: int64"
      ]
     },
     "execution_count": 153,
     "metadata": {},
     "output_type": "execute_result"
    }
   ],
   "source": [
    "df_clean.uranus_retrograde.value_counts()"
   ]
  },
  {
   "cell_type": "code",
   "execution_count": 154,
   "id": "bcef5762",
   "metadata": {},
   "outputs": [
    {
     "data": {
      "text/plain": [
       "0        4.0\n",
       "1       21.0\n",
       "3       19.0\n",
       "4        7.0\n",
       "6       49.0\n",
       "        ... \n",
       "1962    49.0\n",
       "1970    17.0\n",
       "1972    26.0\n",
       "1974    39.0\n",
       "1999    38.0\n",
       "Name: house_AC_pos_minutes, Length: 20904, dtype: float64"
      ]
     },
     "execution_count": 154,
     "metadata": {},
     "output_type": "execute_result"
    }
   ],
   "source": [
    "df_clean['house_AC_pos_minutes']"
   ]
  },
  {
   "cell_type": "code",
   "execution_count": 155,
   "id": "61bea1b1",
   "metadata": {},
   "outputs": [
    {
     "data": {
      "text/plain": [
       "0        3\n",
       "1       12\n",
       "3        1\n",
       "4       11\n",
       "6        9\n",
       "        ..\n",
       "1962    11\n",
       "1970     6\n",
       "1972     6\n",
       "1974     2\n",
       "1999     9\n",
       "Name: mercury_house, Length: 20904, dtype: int64"
      ]
     },
     "execution_count": 155,
     "metadata": {},
     "output_type": "execute_result"
    }
   ],
   "source": [
    "df_clean.mercury_house"
   ]
  },
  {
   "cell_type": "code",
   "execution_count": 156,
   "id": "cfff28cd",
   "metadata": {},
   "outputs": [],
   "source": [
    "# checking for specifc error, do not run\n",
    "\n",
    "# for index, row in df.iterrows():\n",
    "#    for col in df.columns:\n",
    "#        try:\n",
    "#            int(row[col])\n",
    "#        except ValueError:\n",
    "#            print(f\"Error in row {index}, column {col}: {row[col]}\")"
   ]
  },
  {
   "cell_type": "code",
   "execution_count": 157,
   "id": "25dfdb21",
   "metadata": {},
   "outputs": [
    {
     "data": {
      "text/plain": [
       "0             Libra\n",
       "1               Leo\n",
       "3             Libra\n",
       "4          Aquarius\n",
       "6            Cancer\n",
       "           ...     \n",
       "1962    Sagittarius\n",
       "1970          Aries\n",
       "1972          Aries\n",
       "1974          Virgo\n",
       "1999      Capricorn\n",
       "Name: house_11_sign, Length: 20904, dtype: object"
      ]
     },
     "execution_count": 157,
     "metadata": {},
     "output_type": "execute_result"
    }
   ],
   "source": [
    "df_clean.house_11_sign"
   ]
  },
  {
   "cell_type": "code",
   "execution_count": 158,
   "id": "862a40f3",
   "metadata": {},
   "outputs": [
    {
     "data": {
      "text/plain": [
       "Leo            1951\n",
       "Sagittarius    1922\n",
       "Cancer         1888\n",
       "Scorpio        1880\n",
       "Libra          1838\n",
       "Gemini         1829\n",
       "Virgo          1813\n",
       "Capricorn      1794\n",
       "Aquarius       1601\n",
       "Taurus         1578\n",
       "Pisces         1437\n",
       "Aries          1373\n",
       "Name: house_11_sign, dtype: int64"
      ]
     },
     "execution_count": 158,
     "metadata": {},
     "output_type": "execute_result"
    }
   ],
   "source": [
    "df_clean.house_11_sign.value_counts()"
   ]
  },
  {
   "cell_type": "code",
   "execution_count": 159,
   "id": "626d079e",
   "metadata": {},
   "outputs": [
    {
     "data": {
      "text/plain": [
       "Index(['name', 'birth_day', 'birth_month', 'birth_year', 'birth_time',\n",
       "       'mercury_sign', 'mercury_pos_degrees', 'mercury_pos_minutes',\n",
       "       'mercury_house', 'mercury_retrograde', 'venus_sign',\n",
       "       'venus_pos_degrees', 'venus_pos_minutes', 'venus_house', 'mars_sign',\n",
       "       'mars_pos_degrees', 'mars_pos_minutes', 'mars_house', 'sun_sign',\n",
       "       'sun_pos_degrees', 'sun_pos_minutes', 'sun_house', 'moon_sign',\n",
       "       'moon_pos_degrees', 'moon_pos_minutes', 'moon_house', 'jupiter_sign',\n",
       "       'jupiter_pos_degrees', 'jupiter_pos_minutes', 'jupiter_house',\n",
       "       'saturn_sign', 'saturn_pos_degrees', 'saturn_pos_minutes',\n",
       "       'saturn_house', 'uranus_sign', 'uranus_pos_degrees',\n",
       "       'uranus_pos_minutes', 'uranus_house', 'neptune_sign',\n",
       "       'neptune_pos_degrees', 'neptune_pos_minutes', 'neptune_house',\n",
       "       'neptune_retrograde', 'pluto_sign', 'pluto_pos_degrees',\n",
       "       'pluto_pos_minutes', 'pluto_house', 'house_AC_sign',\n",
       "       'house_AC_pos_degrees', 'house_AC_pos_minutes', 'house_2_sign',\n",
       "       'house_2_pos_degrees', 'house_2_pos_minutes', 'house_3_sign',\n",
       "       'house_3_pos_degrees', 'house_3_pos_minutes', 'house_IC_sign',\n",
       "       'house_IC_pos_degrees', 'house_IC_pos_minutes', 'house_5_sign',\n",
       "       'house_5_pos_degrees', 'house_5_pos_minutes', 'house_6_sign',\n",
       "       'house_6_pos_degrees', 'house_6_pos_minutes', 'house_DC_sign',\n",
       "       'house_DC_pos_degrees', 'house_DC_pos_minutes', 'house_8_sign',\n",
       "       'house_8_pos_degrees', 'house_8_pos_minutes', 'house_9_sign',\n",
       "       'house_9_pos_degrees', 'house_9_pos_minutes', 'house_MC_sign',\n",
       "       'house_MC_pos_degrees', 'house_MC_pos_minutes', 'house_11_sign',\n",
       "       'house_11_pos_degrees', 'house_11_pos_minutes', 'house_12_sign',\n",
       "       'house_12_pos_degrees', 'house_12_pos_minutes', 'death_cause',\n",
       "       'occupation', 'gender', 'uranus_retrograde', 'jupiter_retrograde',\n",
       "       'pluto_retrograde', 'saturn_retrograde', 'venus_retrograde',\n",
       "       'mars_retrograde'],\n",
       "      dtype='object')"
      ]
     },
     "execution_count": 159,
     "metadata": {},
     "output_type": "execute_result"
    }
   ],
   "source": [
    "df_clean.columns"
   ]
  },
  {
   "attachments": {},
   "cell_type": "markdown",
   "id": "812c91b0",
   "metadata": {},
   "source": [
    "# Sun signs - in binary values"
   ]
  },
  {
   "cell_type": "code",
   "execution_count": 160,
   "id": "7ea636f2",
   "metadata": {},
   "outputs": [
    {
     "data": {
      "text/plain": [
       "Pisces         1883\n",
       "Aries          1868\n",
       "Taurus         1831\n",
       "Aquarius       1819\n",
       "Cancer         1817\n",
       "Gemini         1810\n",
       "Capricorn      1747\n",
       "Leo            1718\n",
       "Libra          1662\n",
       "Virgo          1622\n",
       "Sagittarius    1568\n",
       "Scorpio        1559\n",
       "Name: sun_sign, dtype: int64"
      ]
     },
     "execution_count": 160,
     "metadata": {},
     "output_type": "execute_result"
    }
   ],
   "source": [
    "df_clean.sun_sign.value_counts()"
   ]
  },
  {
   "cell_type": "code",
   "execution_count": 161,
   "id": "80ecebf9",
   "metadata": {},
   "outputs": [
    {
     "data": {
      "text/html": [
       "<div>\n",
       "<style scoped>\n",
       "    .dataframe tbody tr th:only-of-type {\n",
       "        vertical-align: middle;\n",
       "    }\n",
       "\n",
       "    .dataframe tbody tr th {\n",
       "        vertical-align: top;\n",
       "    }\n",
       "\n",
       "    .dataframe thead th {\n",
       "        text-align: right;\n",
       "    }\n",
       "</style>\n",
       "<table border=\"1\" class=\"dataframe\">\n",
       "  <thead>\n",
       "    <tr style=\"text-align: right;\">\n",
       "      <th></th>\n",
       "      <th>sign_value</th>\n",
       "    </tr>\n",
       "  </thead>\n",
       "  <tbody>\n",
       "    <tr>\n",
       "      <th>0</th>\n",
       "      <td>10.0</td>\n",
       "    </tr>\n",
       "    <tr>\n",
       "      <th>1</th>\n",
       "      <td>9.0</td>\n",
       "    </tr>\n",
       "    <tr>\n",
       "      <th>3</th>\n",
       "      <td>6.0</td>\n",
       "    </tr>\n",
       "    <tr>\n",
       "      <th>4</th>\n",
       "      <td>4.0</td>\n",
       "    </tr>\n",
       "    <tr>\n",
       "      <th>6</th>\n",
       "      <td>2.0</td>\n",
       "    </tr>\n",
       "    <tr>\n",
       "      <th>...</th>\n",
       "      <td>...</td>\n",
       "    </tr>\n",
       "    <tr>\n",
       "      <th>1962</th>\n",
       "      <td>1.0</td>\n",
       "    </tr>\n",
       "    <tr>\n",
       "      <th>1970</th>\n",
       "      <td>1.0</td>\n",
       "    </tr>\n",
       "    <tr>\n",
       "      <th>1972</th>\n",
       "      <td>1.0</td>\n",
       "    </tr>\n",
       "    <tr>\n",
       "      <th>1974</th>\n",
       "      <td>1.0</td>\n",
       "    </tr>\n",
       "    <tr>\n",
       "      <th>1999</th>\n",
       "      <td>1.0</td>\n",
       "    </tr>\n",
       "  </tbody>\n",
       "</table>\n",
       "<p>20904 rows × 1 columns</p>\n",
       "</div>"
      ],
      "text/plain": [
       "      sign_value\n",
       "0           10.0\n",
       "1            9.0\n",
       "3            6.0\n",
       "4            4.0\n",
       "6            2.0\n",
       "...          ...\n",
       "1962         1.0\n",
       "1970         1.0\n",
       "1972         1.0\n",
       "1974         1.0\n",
       "1999         1.0\n",
       "\n",
       "[20904 rows x 1 columns]"
      ]
     },
     "execution_count": 161,
     "metadata": {},
     "output_type": "execute_result"
    }
   ],
   "source": [
    "# sign_dict dictionary with binary values - for each sun_sign\n",
    "sign_dict = {\n",
    "    'Leo': 0b1110,\n",
    "    'Sagittarius': 0b1100,\n",
    "    'Aries': 0b1101,\n",
    "    'Aquarius': 0b1010,\n",
    "    'Aemini': 0b1000,\n",
    "    'Libra': 0b1001,\n",
    "    'Scorpio': 0b110,\n",
    "    'Pisces': 0b100,\n",
    "    'Taurus': 0b10,\n",
    "    'Cancer': 0b101,\n",
    "    'Virgo': 0b0000,\n",
    "    'Capricorn': 0b0001\n",
    "}\n",
    "# Map the sun_sign column to their corresponding values in the sign_dict dictionary\n",
    "df_clean['sign_value'] = df_clean['sun_sign'].map(sign_dict)\n",
    "df_clean[['sign_value']]\n"
   ]
  },
  {
   "cell_type": "code",
   "execution_count": 162,
   "id": "3b2d591f",
   "metadata": {},
   "outputs": [
    {
     "data": {
      "text/plain": [
       "sign_value  sun_sign   \n",
       "4.0         Pisces         1883\n",
       "13.0        Aries          1868\n",
       "2.0         Taurus         1831\n",
       "10.0        Aquarius       1819\n",
       "5.0         Cancer         1817\n",
       "1.0         Capricorn      1747\n",
       "14.0        Leo            1718\n",
       "9.0         Libra          1662\n",
       "0.0         Virgo          1622\n",
       "12.0        Sagittarius    1568\n",
       "6.0         Scorpio        1559\n",
       "dtype: int64"
      ]
     },
     "execution_count": 162,
     "metadata": {},
     "output_type": "execute_result"
    }
   ],
   "source": [
    "df_clean[['sign_value', 'sun_sign']].value_counts()"
   ]
  },
  {
   "attachments": {},
   "cell_type": "markdown",
   "id": "7a4cf320",
   "metadata": {},
   "source": [
    "# Data Exploration and Analysis"
   ]
  },
  {
   "cell_type": "code",
   "execution_count": 163,
   "id": "6b087e76",
   "metadata": {},
   "outputs": [
    {
     "data": {
      "text/plain": [
       "                                               5064\n",
       "actor                                          1579\n",
       "writer                                         1441\n",
       "actress                                        1287\n",
       "politician                                     1030\n",
       "                                               ... \n",
       "morbid Nazi German SS doctor, mass murderer       1\n",
       "23rd President of the United States               1\n",
       "twin, politician                                  1\n",
       "writer, physicist, painter                        1\n",
       "activist for the rights of blacks in the US       1\n",
       "Name: occupation, Length: 1196, dtype: int64"
      ]
     },
     "execution_count": 163,
     "metadata": {},
     "output_type": "execute_result"
    }
   ],
   "source": [
    "df_clean.occupation.value_counts()"
   ]
  },
  {
   "cell_type": "code",
   "execution_count": 164,
   "id": "539155bd",
   "metadata": {},
   "outputs": [
    {
     "data": {
      "text/plain": [
       "Male      15976\n",
       "Female     4928\n",
       "Name: gender, dtype: int64"
      ]
     },
     "execution_count": 164,
     "metadata": {},
     "output_type": "execute_result"
    }
   ],
   "source": [
    "df_clean.gender.value_counts()"
   ]
  },
  {
   "cell_type": "code",
   "execution_count": 165,
   "id": "d43b93a8",
   "metadata": {},
   "outputs": [
    {
     "data": {
      "text/plain": [
       "1946    396\n",
       "1947    386\n",
       "1944    344\n",
       "1945    337\n",
       "1921    328\n",
       "1930    323\n",
       "1925    318\n",
       "1932    312\n",
       "1931    307\n",
       "1926    303\n",
       "Name: birth_year, dtype: int64"
      ]
     },
     "execution_count": 165,
     "metadata": {},
     "output_type": "execute_result"
    }
   ],
   "source": [
    "df_clean.birth_year.value_counts().nlargest(10)"
   ]
  },
  {
   "cell_type": "code",
   "execution_count": 175,
   "id": "1b1f6b64",
   "metadata": {},
   "outputs": [
    {
     "data": {
      "text/plain": [
       "0        01:44\n",
       "1        05:30\n",
       "3        06:14\n",
       "4        08:00\n",
       "6        14:00\n",
       "         ...  \n",
       "1962     09:00\n",
       "1970     16:00\n",
       "1972     16:04\n",
       "1974     02:03\n",
       "1999     12:10\n",
       "Name: birth_time, Length: 20904, dtype: object"
      ]
     },
     "execution_count": 175,
     "metadata": {},
     "output_type": "execute_result"
    }
   ],
   "source": [
    "df_clean.birth_time"
   ]
  },
  {
   "cell_type": "code",
   "execution_count": 176,
   "id": "e8d47802",
   "metadata": {},
   "outputs": [
    {
     "data": {
      "text/plain": [
       "20904"
      ]
     },
     "execution_count": 176,
     "metadata": {},
     "output_type": "execute_result"
    }
   ],
   "source": [
    "total_time_values = df_clean.birth_time.value_counts().sum()\n",
    "total_time_values"
   ]
  },
  {
   "cell_type": "code",
   "execution_count": 177,
   "id": "4c038677",
   "metadata": {},
   "outputs": [
    {
     "data": {
      "text/plain": [
       " 06:00    446\n",
       " 04:00    415\n",
       " 03:00    392\n",
       " 01:00    391\n",
       " 05:00    385\n",
       " 07:00    373\n",
       " 02:00    368\n",
       " 08:00    363\n",
       " 12:00    357\n",
       " 10:00    342\n",
       " 15:00    327\n",
       " 11:00    324\n",
       " 09:00    315\n",
       " 16:00    305\n",
       " 21:00    293\n",
       " 14:00    292\n",
       " 20:00    285\n",
       " 22:00    281\n",
       " 23:00    276\n",
       " 18:00    271\n",
       " 13:00    269\n",
       " 17:00    263\n",
       " 19:00    255\n",
       "Name: birth_time, dtype: int64"
      ]
     },
     "execution_count": 177,
     "metadata": {},
     "output_type": "execute_result"
    }
   ],
   "source": [
    "exact_birth_time = df_clean.birth_time.value_counts().nlargest(23)\n",
    "exact_birth_time"
   ]
  },
  {
   "cell_type": "code",
   "execution_count": 178,
   "id": "d0f9f382",
   "metadata": {},
   "outputs": [
    {
     "data": {
      "text/plain": [
       "7588"
      ]
     },
     "execution_count": 178,
     "metadata": {},
     "output_type": "execute_result"
    }
   ],
   "source": [
    "exact_birth_time_total = exact_birth_time.sum()\n",
    "exact_birth_time_total"
   ]
  },
  {
   "cell_type": "code",
   "execution_count": 179,
   "id": "3865861d",
   "metadata": {},
   "outputs": [
    {
     "data": {
      "text/plain": [
       "0.36299272866437043"
      ]
     },
     "execution_count": 179,
     "metadata": {},
     "output_type": "execute_result"
    }
   ],
   "source": [
    "exact_birth_time_total / total_time_values"
   ]
  },
  {
   "attachments": {},
   "cell_type": "markdown",
   "id": "0dc90f87",
   "metadata": {},
   "source": [
    "- 36% of birth time 's are exact hours - o'clock."
   ]
  },
  {
   "cell_type": "code",
   "execution_count": 180,
   "id": "d5ca3470",
   "metadata": {},
   "outputs": [
    {
     "data": {
      "text/plain": [
       " 06:00    446\n",
       " 04:00    415\n",
       " 03:00    392\n",
       " 01:00    391\n",
       " 05:00    385\n",
       " 07:00    373\n",
       " 02:00    368\n",
       " 08:00    363\n",
       " 12:00    357\n",
       " 10:00    342\n",
       " 15:00    327\n",
       " 11:00    324\n",
       " 09:00    315\n",
       " 16:00    305\n",
       " 21:00    293\n",
       " 14:00    292\n",
       " 20:00    285\n",
       " 22:00    281\n",
       " 23:00    276\n",
       " 18:00    271\n",
       " 13:00    269\n",
       " 17:00    263\n",
       " 19:00    255\n",
       " 06:30    173\n",
       " 04:30    167\n",
       " 05:30    162\n",
       " 02:30    160\n",
       " 08:30    160\n",
       " 10:30    155\n",
       " 07:30    154\n",
       " 12:30    149\n",
       " 23:30    147\n",
       " 22:30    143\n",
       " 15:30    139\n",
       " 00:30    137\n",
       " 09:30    137\n",
       " 11:30    132\n",
       " 03:30    131\n",
       " 14:30    128\n",
       " 01:30    126\n",
       " 19:30    124\n",
       " 18:30    117\n",
       " 17:30    110\n",
       " 13:30    109\n",
       " 21:30    108\n",
       " 16:30    105\n",
       " 20:30    104\n",
       "Name: birth_time, dtype: int64"
      ]
     },
     "execution_count": 180,
     "metadata": {},
     "output_type": "execute_result"
    }
   ],
   "source": [
    "# 00:00, 00:30, ... - 30 min increments\n",
    "\n",
    "exact_or_half_time = df_clean.birth_time.value_counts().nlargest(47)\n",
    "exact_or_half_time"
   ]
  },
  {
   "cell_type": "code",
   "execution_count": 181,
   "id": "39e31d11",
   "metadata": {},
   "outputs": [
    {
     "data": {
      "text/plain": [
       "10865"
      ]
     },
     "execution_count": 181,
     "metadata": {},
     "output_type": "execute_result"
    }
   ],
   "source": [
    "total_exact_or_half = exact_or_half_time.sum()\n",
    "total_exact_or_half"
   ]
  },
  {
   "cell_type": "code",
   "execution_count": 182,
   "id": "969938f7",
   "metadata": {},
   "outputs": [
    {
     "data": {
      "text/plain": [
       "0.5197569843092231"
      ]
     },
     "execution_count": 182,
     "metadata": {},
     "output_type": "execute_result"
    }
   ],
   "source": [
    "total_exact_or_half / total_time_values"
   ]
  },
  {
   "attachments": {},
   "cell_type": "markdown",
   "id": "e783cd33",
   "metadata": {},
   "source": [
    "- 52 % of values are exact birth time - withim 30 min increments"
   ]
  },
  {
   "cell_type": "code",
   "execution_count": 183,
   "id": "1d204f69",
   "metadata": {},
   "outputs": [
    {
     "data": {
      "text/plain": [
       "1371"
      ]
     },
     "execution_count": 183,
     "metadata": {},
     "output_type": "execute_result"
    }
   ],
   "source": [
    "df_clean.birth_time.value_counts().count()"
   ]
  },
  {
   "cell_type": "code",
   "execution_count": 184,
   "id": "b4203f94",
   "metadata": {},
   "outputs": [
    {
     "name": "stderr",
     "output_type": "stream",
     "text": [
      "/var/folders/mq/y46j7s7159g2vlbnqmddqp280000gn/T/ipykernel_75890/3771991500.py:20: FutureWarning: The default value of numeric_only in DataFrame.corr is deprecated. In a future version, it will default to False. Select only valid columns or specify the value of numeric_only to silence this warning.\n",
      "  corr_matrix = df_small.corr()\n"
     ]
    },
    {
     "data": {
      "image/png": "[encoded data removed]",
      "text/plain": [
       "<Figure size 640x480 with 2 Axes>"
      ]
     },
     "metadata": {},
     "output_type": "display_data"
    }
   ],
   "source": [
    "#random\n",
    "\n",
    "df_small =  df_clean[['birth_day', 'birth_month', 'birth_year', 'birth_time', \n",
    "                'sun_sign', 'birth_day', 'birth_month', 'birth_year', 'birth_time',\n",
    "                'mercury_sign', 'mercury_pos_degrees', 'mercury_pos_minutes',\n",
    "       'mercury_house', 'mercury_retrograde', 'venus_sign',\n",
    "       'venus_pos_degrees', 'venus_pos_minutes', 'venus_house', 'mars_sign',\n",
    "       'mars_pos_degrees', 'mars_pos_minutes', 'mars_house', 'sun_sign',\n",
    "       'sun_pos_degrees', 'sun_pos_minutes', 'sun_house', 'moon_sign',\n",
    "       'moon_pos_degrees', 'moon_pos_minutes', 'moon_house', 'jupiter_sign',\n",
    "       'jupiter_pos_degrees', 'jupiter_pos_minutes', 'jupiter_house',\n",
    "       'saturn_sign', 'saturn_pos_degrees', 'saturn_pos_minutes',\n",
    "       'saturn_house', 'uranus_sign', 'uranus_pos_degrees',\n",
    "       'uranus_pos_minutes', 'uranus_house', 'neptune_sign',\n",
    "       'neptune_pos_degrees', 'neptune_pos_minutes', 'neptune_house',\n",
    "       'neptune_retrograde', 'pluto_sign', 'pluto_pos_degrees',\n",
    "       'pluto_pos_minutes', 'pluto_house', 'house_AC_sign', 'occupation']] \n",
    "\n",
    "# Calculate the correlation matrix\n",
    "corr_matrix = df_small.corr()\n",
    "\n",
    "# Create a heatmap of the correlation matrix\n",
    "sns.heatmap(corr_matrix, annot=False, cmap='coolwarm')\n",
    "plt.show()"
   ]
  },
  {
   "attachments": {},
   "cell_type": "markdown",
   "id": "01bdac2b",
   "metadata": {},
   "source": [
    "## Occupation, Death Cause... potential y_predict"
   ]
  },
  {
   "cell_type": "code",
   "execution_count": 185,
   "id": "2c909786",
   "metadata": {},
   "outputs": [
    {
     "data": {
      "image/png": "[encoded data removed]",
      "text/plain": [
       "<Figure size 640x480 with 1 Axes>"
      ]
     },
     "metadata": {},
     "output_type": "display_data"
    }
   ],
   "source": [
    "# top 20 occupations\n",
    "counts = df_clean['occupation'].value_counts().nlargest(20)\n",
    "counts = counts[counts < 5000] # exclude missing values\n",
    "\n",
    "# horizontal bar plot\n",
    "ax = sns.barplot(x=counts.values, y=counts.index, palette='viridis')\n",
    "\n",
    "# labels and title\n",
    "ax.set_xlabel('Count')\n",
    "ax.set_ylabel('Occupation')\n",
    "ax.set_title('Histogram of Occupation')\n",
    "\n",
    "plt.show()"
   ]
  },
  {
   "cell_type": "code",
   "execution_count": 186,
   "id": "dde84b55",
   "metadata": {},
   "outputs": [
    {
     "data": {
      "text/plain": [
       "array(['', 'Suicide by Poisoning', 'Execution by Beheading', 'Stroke',\n",
       "       'Execution by Hanging', 'Disease', 'War Casualties',\n",
       "       'Tuberculosis', 'Victims of Assassination', 'Pneumonia',\n",
       "       'Syphilis', 'Execution by Gunshot', 'Cancer', 'Unclear cause',\n",
       "       'Suicide', 'Suicide by Gunshot', 'Fever', 'Heart Failure',\n",
       "       'Cirrhosis', 'Heart Attack', 'Drowning', 'Injury', 'Murder',\n",
       "       'Murder by Gunshot', 'Accident', 'Suicide by Hanging',\n",
       "       'Liver Failure', 'Kidney Failure', \"Alzheimer's Disease\",\n",
       "       'Respiratory/Lung Failure', 'Diabetes', 'Influenza', 'Aneurysm',\n",
       "       'Alcohol', 'Car Accident', 'Brain Failure', 'Leukemia',\n",
       "       'Execution', 'Aviation Accident', 'Pill Overdose',\n",
       "       'Casualties of World War I', \"Parkinson's disease\",\n",
       "       'Drug Overdose', 'Execution by Electric Chair',\n",
       "       'Multiple Sclerosis', 'AIDS', 'Asthma', 'Terrorism',\n",
       "       'Execution by Lethal injection', 'Fall'], dtype=object)"
      ]
     },
     "execution_count": 186,
     "metadata": {},
     "output_type": "execute_result"
    }
   ],
   "source": [
    "df_clean['death_cause'].unique()"
   ]
  },
  {
   "cell_type": "code",
   "execution_count": 187,
   "id": "dfc0fbf3",
   "metadata": {},
   "outputs": [
    {
     "data": {
      "image/png": "[encoded data removed]",
      "text/plain": [
       "<Figure size 800x1200 with 1 Axes>"
      ]
     },
     "metadata": {},
     "output_type": "display_data"
    }
   ],
   "source": [
    "# drop rows where 'death_cause' is NaN\n",
    "df_dead = df_clean.dropna(subset=['death_cause'])\n",
    "\n",
    "# cause of death - top 20\n",
    "counts = df_dead['death_cause'].value_counts().nlargest(40)\n",
    "counts = counts[counts < 16000] # exclude missing cause\n",
    "\n",
    "fig, ax = plt.subplots(figsize=(8, 12))\n",
    "\n",
    "ax = sns.barplot(x=counts.values, y=counts.index, orient='h', palette='viridis')\n",
    "ax.set_xlabel('Count')\n",
    "ax.set_ylabel('Death Cause')\n",
    "ax.set_title('Histogram of Death Cause')\n",
    "\n",
    "plt.show()"
   ]
  },
  {
   "cell_type": "code",
   "execution_count": null,
   "id": "22692e84",
   "metadata": {},
   "outputs": [],
   "source": []
  },
  {
   "cell_type": "code",
   "execution_count": null,
   "id": "c9e832fb",
   "metadata": {},
   "outputs": [],
   "source": []
  }
 ],
 "metadata": {
  "kernelspec": {
   "display_name": "Python 3 (ipykernel)",
   "language": "python",
   "name": "python3"
  },
  "language_info": {
   "codemirror_mode": {
    "name": "ipython",
    "version": 3
   },
   "file_extension": ".py",
   "mimetype": "text/x-python",
   "name": "python",
   "nbconvert_exporter": "python",
   "pygments_lexer": "ipython3",
   "version": "3.10.6"
  }
 },
 "nbformat": 4,
 "nbformat_minor": 5
}
