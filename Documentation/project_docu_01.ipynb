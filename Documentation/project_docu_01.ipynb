{
 "cells": [
  {
   "attachments": {},
   "cell_type": "markdown",
   "metadata": {},
   "source": [
    "# Astro_ML - Project Intro"
   ]
  },
  {
   "attachments": {},
   "cell_type": "markdown",
   "metadata": {},
   "source": [
    "# 0. Data"
   ]
  },
  {
   "attachments": {},
   "cell_type": "markdown",
   "metadata": {},
   "source": [
    "MAIN url = https://famouspeople.astro-seek.com\n",
    "\n",
    "- an 'astro' database of 94.670 celebrity data incl. birth date, birth time (not all) and birth chart"
   ]
  },
  {
   "attachments": {},
   "cell_type": "markdown",
   "metadata": {},
   "source": [
    "### Astrology 101"
   ]
  },
  {
   "attachments": {},
   "cell_type": "markdown",
   "metadata": {},
   "source": [
    "#### Zodiac Signs\n",
    "The zodiac is a circle of 12 divisions/ signs, each named after a constellation that the Sun passes through during its annual path around the Earth. These signs are Aries, Taurus, Gemini, Cancer, Leo, Virgo, Libra, Scorpio, Sagittarius, Capricorn, Aquarius, and Pisces. \n",
    "\n",
    "#### Horoscopes\n",
    "Astrologers use the positions of the planets and stars at a specific time, such as a person's birth, to create a chart or map of the heavens. This chart is then used to create a horoscope, which is a prediction of future events and personality traits based on the positions of the planets and stars.\n",
    "\n",
    "#### Planets\n",
    "In astrology, each planet has a specific meaning and influences different aspects of life.\n",
    "\n",
    "#### Houses\n",
    "The horoscope chart is divided into 12 houses, each of which represents a different area of life, such as career, home, and relationships.\n",
    "\n",
    "#### Aspects\n",
    "Aspects refer to the angles between planets in the horoscope chart. Different aspects have different meanings and can affect how the planets influence each other."
   ]
  },
  {
   "attachments": {},
   "cell_type": "markdown",
   "metadata": {},
   "source": [
    "## 1. Web Scraping"
   ]
  },
  {
   "attachments": {},
   "cell_type": "markdown",
   "metadata": {},
   "source": [
    "- python\n",
    "- first attempt: scraping all people from the following indexed page\n",
    "\n",
    "https://famouspeople.astro-seek.com/filter_date/?umrti=&asc=&narozeni_den=nezalezi&narozeni_mesic=nezalezi&narozeni_rok=&narozeni_stat=&pohlavi=&razeni=\n",
    "\n",
    "- 474 pages to be scraped for celebrity info, incl. birth date and time and birth chart(?)\n"
   ]
  },
  {
   "cell_type": "code",
   "execution_count": 1,
   "metadata": {},
   "outputs": [
    {
     "name": "stdout",
     "output_type": "stream",
     "text": [
      "/Users/carinaremes/code/tim2data/astro_ml/Documentation\n"
     ]
    }
   ],
   "source": [
    "! pwd"
   ]
  },
  {
   "cell_type": "code",
   "execution_count": null,
   "metadata": {},
   "outputs": [],
   "source": [
    "! git add project_docu_01.ipynb"
   ]
  },
  {
   "cell_type": "markdown",
   "metadata": {},
   "source": []
  }
 ],
 "metadata": {
  "kernelspec": {
   "display_name": "lewagon",
   "language": "python",
   "name": "python3"
  },
  "language_info": {
   "codemirror_mode": {
    "name": "ipython",
    "version": 3
   },
   "file_extension": ".py",
   "mimetype": "text/x-python",
   "name": "python",
   "nbconvert_exporter": "python",
   "pygments_lexer": "ipython3",
   "version": "3.10.6"
  },
  "orig_nbformat": 4
 },
 "nbformat": 4,
 "nbformat_minor": 2
}
