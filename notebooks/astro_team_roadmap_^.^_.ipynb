{
 "cells": [
  {
   "cell_type": "markdown",
   "id": "40f8067c",
   "metadata": {},
   "source": [
    "  ∧,,,∧\n",
    "(  ̳• · • ̳)\n",
    "/    づ♡ "
   ]
  },
  {
   "cell_type": "markdown",
   "id": "463a0603",
   "metadata": {},
   "source": [
    "# Update Dataframe\n",
    "columns updated = info for:\n",
    "- sign of planet\n",
    "- aspects acting on planet\n",
    "- house planet is in\n",
    "- retrograde(y/n)"
   ]
  },
  {
   "cell_type": "code",
   "execution_count": 1,
   "id": "56cf2094",
   "metadata": {},
   "outputs": [
    {
     "ename": "SyntaxError",
     "evalue": "positional argument follows keyword argument (2099569064.py, line 1)",
     "output_type": "error",
     "traceback": [
      "\u001b[0;36m  Cell \u001b[0;32mIn[1], line 1\u001b[0;36m\u001b[0m\n\u001b[0;31m    updated_df = drop_all_except.old_df(columns=\"all_planet_signs\", \"all_houses\", \"all_aspects\", \"retrograde_info\")\u001b[0m\n\u001b[0m                                                                                                                  ^\u001b[0m\n\u001b[0;31mSyntaxError\u001b[0m\u001b[0;31m:\u001b[0m positional argument follows keyword argument\n"
     ]
    }
   ],
   "source": [
    "updated_df = drop_all_except.old_df(columns=\"all_planet_signs\", \"all_houses\", \"all_aspects\", \"retrograde_info\")"
   ]
  },
  {
   "cell_type": "markdown",
   "id": "03a31d49",
   "metadata": {},
   "source": [
    "ᓚᘏᗢ"
   ]
  },
  {
   "cell_type": "markdown",
   "id": "611f48cc",
   "metadata": {
    "heading_collapsed": true
   },
   "source": [
    "# Create Vocab Lists\n",
    "\n",
    "Using python file ᓚᘏᗢ\n"
   ]
  },
  {
   "cell_type": "markdown",
   "id": "ab51126b",
   "metadata": {
    "heading_collapsed": true
   },
   "source": [
    "# Feature Engineer\n",
    "\n",
    "\n",
    " \n"
   ]
  },
  {
   "cell_type": "markdown",
   "id": "98452d60",
   "metadata": {
    "hidden": true
   },
   "source": [
    "## Planets and Signs\n",
    "\n",
    "##### If:\n",
    "  planet_sign_x = sign_x, \n",
    "##### then: \n",
    "create new columns \"planet_x_vocab\" and \"planet_sign_x_vocab\"\n",
    "##### where:\n",
    " \"planet_x_vocab\" = planet_x_vocab_list \n",
    " ##### &:\n",
    " \"planet_sign_x_vocab\" = sign_x_vocab_list\n"
   ]
  },
  {
   "cell_type": "markdown",
   "id": "05ed2478",
   "metadata": {
    "hidden": true
   },
   "source": [
    "## Houses\n",
    "\n",
    "##### If:\n",
    "  planet_house_x = planet_house_x, \n",
    "##### then: \n",
    "create new column \"planet_x_house_x_vocab\" \n",
    "##### where:\n",
    " \"planet_x_house_x_vocab\" = house_x_vocab_list\n",
    "\n"
   ]
  },
  {
   "cell_type": "markdown",
   "id": "3f3c6eb5",
   "metadata": {
    "hidden": true
   },
   "source": [
    "## Aspects\n",
    "##### If:\n",
    "  dominant_planet_aspect_x = aspect_x, \n",
    "##### then: \n",
    "create new column \"planet_x_aspect_x_vocab\" \n",
    "##### where:\n",
    " \"planet_x_aspect_x_vocab\" = aspect_x_vocab_list"
   ]
  },
  {
   "cell_type": "markdown",
   "id": "ed27dd35",
   "metadata": {
    "hidden": true
   },
   "source": [
    "## Retrograde (Y/N)\n",
    "##### First:\n",
    "create new column \"planet_x_retrograde_vocab\" \n",
    "### Y \n",
    "##### If:\n",
    "planet_x_retrograde = Yes\n",
    "##### then:\n",
    "\"planet_x_retrograde_vocab\" = retrograde_characteristics_for_planet_x\n",
    " \n",
    "### N \n",
    "##### If:\n",
    "planet_x_retrograde = No\n",
    "##### then: \n",
    "\"planet_x_retrograde_vocab\" = \"\"\n",
    "\n"
   ]
  },
  {
   "cell_type": "markdown",
   "id": "a7a3a51f",
   "metadata": {},
   "source": [
    "# NLP Techniques \n",
    "(more feature engineering)"
   ]
  },
  {
   "cell_type": "markdown",
   "id": "836740c9",
   "metadata": {},
   "source": [
    "\n",
    "Choose 3 words from vocab_x: \"word_1\", \"word_2\", \"word_3\"\n",
    "\n",
    "##### Utilize word2vec.most_similar:\n",
    "word_1.most_similar(positive=[\"word_2\",\"word_3],topn=8)\n",
    "word_2.most_similar(positive=[\"word_2\",\"word_3],topn=8)\n",
    "word_3.most_similar(positive=[\"word_2\",\"word_3],topn=8)\n",
    "\n",
    "##### If examining sign_x_vocab "
   ]
  },
  {
   "cell_type": "markdown",
   "id": "5665293a",
   "metadata": {},
   "source": [
    "# Final Feature Engineering \n",
    "## Create new columns\n",
    "column_names=\n",
    "- \"planet_x_word\"\n",
    "- \"planet_x_sign_x_word\"  \n",
    "- \"planet_x_house_x_word\"\n",
    "- \"planet_x_dom_aspect_word\"\n",
    "- \"planet_x_retrograde_x_word\"\n",
    "- \"planet_x_ready\"\n",
    "##### where:\n",
    "\"planet_x_word\" = <single_word_chosen_randomly_from_planet_x_vocab>"
   ]
  },
  {
   "cell_type": "code",
   "execution_count": null,
   "id": "3b53d8fd",
   "metadata": {},
   "outputs": [],
   "source": []
  }
 ],
 "metadata": {
  "kernelspec": {
   "display_name": "Python 3 (ipykernel)",
   "language": "python",
   "name": "python3"
  },
  "language_info": {
   "codemirror_mode": {
    "name": "ipython",
    "version": 3
   },
   "file_extension": ".py",
   "mimetype": "text/x-python",
   "name": "python",
   "nbconvert_exporter": "python",
   "pygments_lexer": "ipython3",
   "version": "3.10.6"
  },
  "toc": {
   "base_numbering": 1,
   "nav_menu": {},
   "number_sections": true,
   "sideBar": true,
   "skip_h1_title": false,
   "title_cell": "Table of Contents",
   "title_sidebar": "Contents",
   "toc_cell": false,
   "toc_position": {},
   "toc_section_display": true,
   "toc_window_display": false
  }
 },
 "nbformat": 4,
 "nbformat_minor": 5
}
